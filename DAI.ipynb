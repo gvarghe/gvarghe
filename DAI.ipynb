{
 "cells": [
  {
   "cell_type": "markdown",
   "id": "912ee302",
   "metadata": {},
   "source": [
    "## NYC Green Taxi Data for Sep 2016 Analysis"
   ]
  },
  {
   "cell_type": "markdown",
   "id": "41168117",
   "metadata": {},
   "source": [
    "#### Author: George J Varghese (george.j.varghese@schwab.com)"
   ]
  },
  {
   "cell_type": "markdown",
   "id": "b0f02696",
   "metadata": {},
   "source": [
    "## Objective\n",
    "\n",
    "Analyze New York City Taxi and Limousine commission (Sep2016)\n",
    "\n",
    "https://www1.nyc.gov/site/tlc/about/tlc-trip-record-data.page (Data Source)"
   ]
  },
  {
   "cell_type": "markdown",
   "id": "cd6e48b7",
   "metadata": {},
   "source": [
    "## Data Dictionary"
   ]
  },
  {
   "cell_type": "markdown",
   "id": "ddf475fd",
   "metadata": {},
   "source": [
    "https://www1.nyc.gov/assets/tlc/downloads/pdf/data_dictionary_trip_records_green.pdf\n",
    "\n",
    "* VendorID:  A code indicating the LPEP provider that provided the record.\n",
    "1= Creative Mobile Technologies, LLC; 2= VeriFone Inc.\n",
    "\n",
    "* lpep_pickup_datetime:  The date and time when the meter was engaged.\n",
    "\n",
    "* lpep_dropoff_datetime: The date and time when the meter was disengaged.\n",
    "\n",
    "* Passenger_count: The number of passengers in the vehicle.\n",
    "This is a driver-entered value.\n",
    "\n",
    "* Trip_distance:  The elapsed trip distance in miles reported by the taximeter.\n",
    "\n",
    "* PULocationID:  TLC Taxi Zone in which the taximeter was engaged\n",
    "\n",
    "* DOLocationID:  TLC Taxi Zone in which the taximeter was disengaged\n",
    "\n",
    "* RateCodeID: The final rate code in effect at the end of the trip.\n",
    "1= Standard rate\n",
    "2=JFK\n",
    "3=Newark\n",
    "4=Nassau or Westchester\n",
    "5=Negotiated fare\n",
    "6=Group ride\n",
    "\n",
    "* Store_and_fwd_flag: This flag indicates whether the trip record was held in vehicle\n",
    "memory before sending to the vendor, aka “store and forward,”\n",
    "because the vehicle did not have a connection to the server.\n",
    "Y= store and forward trip\n",
    "N= not a store and forward trip\n",
    "\n",
    "* Payment_type: A numeric code signifying how the passenger paid for the trip.\n",
    "1= Credit card\n",
    "2= Cash\n",
    "3= No charge\n",
    "4= Dispute\n",
    "5= Unknown\n",
    "6= Voided trip\n",
    "\n",
    "* Fare_amount: The time-and-distance fare calculated by the meter.\n",
    "\n",
    "* Extra:  Miscellaneous extras and surcharges. Currently, this only includes\n",
    "the $0.50 and $1 rush hour and overnight charges.\n",
    "\n",
    "* MTA_tax: $0.50 MTA tax that is automatically triggered based on the metered\n",
    "rate in use.\n",
    "\n",
    "* Improvement_surcharge:  $0.30 improvement surcharge assessed on hailed trips at the flag\n",
    "drop. The improvement surcharge began being levied in 2015.\n",
    "\n",
    "* Tip_amount: Tip amount – This field is automatically populated for credit card\n",
    "tips. Cash tips are not included.\n",
    "\n",
    "* Tolls_amount: Total amount of all tolls paid in trip.\n",
    "\n",
    "* Total_amount: The total amount charged to passengers. Does not include cash tips\n",
    "\n",
    "* Trip_Type : A code indicating whether the trip was a street-hail or a dispatch\n",
    "that is automatically assigned based on the metered rate in use but\n",
    "can be altered by the driver.\n",
    "1= Street-hail\n",
    "2= Dispatch\n"
   ]
  },
  {
   "cell_type": "markdown",
   "id": "32aa8a17",
   "metadata": {},
   "source": [
    "## Objective"
   ]
  },
  {
   "cell_type": "markdown",
   "id": "9158bed8",
   "metadata": {},
   "source": [
    "* Perform basic exploratory analysis on the data and provide results\n",
    "* Plot a histogram of the trip distance and your inferences on the same.\n",
    "* Report mean and median trip distance grouped by the hour of the day (based on pick up/ drop off time)\n",
    "* What insights stand out based on your analysis?"
   ]
  },
  {
   "cell_type": "markdown",
   "id": "48b1aff2",
   "metadata": {},
   "source": [
    "## 1.Initial Analysis , Structure of the Data"
   ]
  },
  {
   "cell_type": "markdown",
   "id": "ceef7e0f",
   "metadata": {},
   "source": [
    "### Importing Python Libraries"
   ]
  },
  {
   "cell_type": "code",
   "execution_count": 305,
   "id": "3328c9e3",
   "metadata": {},
   "outputs": [
    {
     "name": "stdout",
     "output_type": "stream",
     "text": [
      "The nb_black extension is already loaded. To reload it, use:\n",
      "  %reload_ext nb_black\n"
     ]
    },
    {
     "data": {
      "application/javascript": [
       "\n",
       "            setTimeout(function() {\n",
       "                var nbb_cell_id = 305;\n",
       "                var nbb_unformatted_code = \"# Libraries to help with reading and manipulating data\\nimport numpy as np\\nimport pandas as pd\\n\\n# Libraries to help with data visualization\\nimport matplotlib.pyplot as plt\\nimport seaborn as sns\\n\\nsns.set()\\n\\nimport warnings\\n\\nwarnings.filterwarnings(\\\"ignore\\\")\\n\\n\\n# this will help in making the Python code more structured automatically\\n%load_ext nb_black\";\n",
       "                var nbb_formatted_code = \"# Libraries to help with reading and manipulating data\\nimport numpy as np\\nimport pandas as pd\\n\\n# Libraries to help with data visualization\\nimport matplotlib.pyplot as plt\\nimport seaborn as sns\\n\\nsns.set()\\n\\nimport warnings\\n\\nwarnings.filterwarnings(\\\"ignore\\\")\\n\\n\\n# this will help in making the Python code more structured automatically\\n%load_ext nb_black\";\n",
       "                var nbb_cells = Jupyter.notebook.get_cells();\n",
       "                for (var i = 0; i < nbb_cells.length; ++i) {\n",
       "                    if (nbb_cells[i].input_prompt_number == nbb_cell_id) {\n",
       "                        if (nbb_cells[i].get_text() == nbb_unformatted_code) {\n",
       "                             nbb_cells[i].set_text(nbb_formatted_code);\n",
       "                        }\n",
       "                        break;\n",
       "                    }\n",
       "                }\n",
       "            }, 500);\n",
       "            "
      ],
      "text/plain": [
       "<IPython.core.display.Javascript object>"
      ]
     },
     "metadata": {},
     "output_type": "display_data"
    }
   ],
   "source": [
    "# Libraries to help with reading and manipulating data\n",
    "import numpy as np\n",
    "import pandas as pd\n",
    "\n",
    "# Libraries to help with data visualization\n",
    "import matplotlib.pyplot as plt\n",
    "import seaborn as sns\n",
    "\n",
    "sns.set()\n",
    "\n",
    "import warnings\n",
    "\n",
    "warnings.filterwarnings(\"ignore\")\n",
    "\n",
    "\n",
    "# this will help in making the Python code more structured automatically\n",
    "%load_ext nb_black"
   ]
  },
  {
   "cell_type": "markdown",
   "id": "8452dd9b",
   "metadata": {},
   "source": [
    "### Reading the dataset"
   ]
  },
  {
   "cell_type": "code",
   "execution_count": 306,
   "id": "872f0389",
   "metadata": {},
   "outputs": [
    {
     "data": {
      "application/javascript": [
       "\n",
       "            setTimeout(function() {\n",
       "                var nbb_cell_id = 306;\n",
       "                var nbb_unformatted_code = \"# loading the dataset\\ntrip= pd.read_csv(\\\"green_tripdata_2016-09.csv\\\")\";\n",
       "                var nbb_formatted_code = \"# loading the dataset\\ntrip = pd.read_csv(\\\"green_tripdata_2016-09.csv\\\")\";\n",
       "                var nbb_cells = Jupyter.notebook.get_cells();\n",
       "                for (var i = 0; i < nbb_cells.length; ++i) {\n",
       "                    if (nbb_cells[i].input_prompt_number == nbb_cell_id) {\n",
       "                        if (nbb_cells[i].get_text() == nbb_unformatted_code) {\n",
       "                             nbb_cells[i].set_text(nbb_formatted_code);\n",
       "                        }\n",
       "                        break;\n",
       "                    }\n",
       "                }\n",
       "            }, 500);\n",
       "            "
      ],
      "text/plain": [
       "<IPython.core.display.Javascript object>"
      ]
     },
     "metadata": {},
     "output_type": "display_data"
    }
   ],
   "source": [
    "# loading the dataset\n",
    "trip= pd.read_csv(\"green_tripdata_2016-09.csv\")\n"
   ]
  },
  {
   "cell_type": "markdown",
   "id": "4e9b7663",
   "metadata": {},
   "source": [
    "### Finding the number of Columns and Rows"
   ]
  },
  {
   "cell_type": "code",
   "execution_count": 307,
   "id": "b30cb40b",
   "metadata": {},
   "outputs": [
    {
     "name": "stdout",
     "output_type": "stream",
     "text": [
      "There are 1048574 rows and 19 columns.\n"
     ]
    },
    {
     "data": {
      "application/javascript": [
       "\n",
       "            setTimeout(function() {\n",
       "                var nbb_cell_id = 307;\n",
       "                var nbb_unformatted_code = \"# checking the shape of the data\\nprint(f\\\"There are {trip.shape[0]} rows and {trip.shape[1]} columns.\\\")\";\n",
       "                var nbb_formatted_code = \"# checking the shape of the data\\nprint(f\\\"There are {trip.shape[0]} rows and {trip.shape[1]} columns.\\\")\";\n",
       "                var nbb_cells = Jupyter.notebook.get_cells();\n",
       "                for (var i = 0; i < nbb_cells.length; ++i) {\n",
       "                    if (nbb_cells[i].input_prompt_number == nbb_cell_id) {\n",
       "                        if (nbb_cells[i].get_text() == nbb_unformatted_code) {\n",
       "                             nbb_cells[i].set_text(nbb_formatted_code);\n",
       "                        }\n",
       "                        break;\n",
       "                    }\n",
       "                }\n",
       "            }, 500);\n",
       "            "
      ],
      "text/plain": [
       "<IPython.core.display.Javascript object>"
      ]
     },
     "metadata": {},
     "output_type": "display_data"
    }
   ],
   "source": [
    "# checking the shape of the data\n",
    "print(f\"There are {trip.shape[0]} rows and {trip.shape[1]} columns.\")"
   ]
  },
  {
   "cell_type": "code",
   "execution_count": 308,
   "id": "c504e1f5",
   "metadata": {},
   "outputs": [
    {
     "data": {
      "application/javascript": [
       "\n",
       "            setTimeout(function() {\n",
       "                var nbb_cell_id = 308;\n",
       "                var nbb_unformatted_code = \"# Copying the data to another variable to avoid any changes to original data\\ndata = trip.copy()\";\n",
       "                var nbb_formatted_code = \"# Copying the data to another variable to avoid any changes to original data\\ndata = trip.copy()\";\n",
       "                var nbb_cells = Jupyter.notebook.get_cells();\n",
       "                for (var i = 0; i < nbb_cells.length; ++i) {\n",
       "                    if (nbb_cells[i].input_prompt_number == nbb_cell_id) {\n",
       "                        if (nbb_cells[i].get_text() == nbb_unformatted_code) {\n",
       "                             nbb_cells[i].set_text(nbb_formatted_code);\n",
       "                        }\n",
       "                        break;\n",
       "                    }\n",
       "                }\n",
       "            }, 500);\n",
       "            "
      ],
      "text/plain": [
       "<IPython.core.display.Javascript object>"
      ]
     },
     "metadata": {},
     "output_type": "display_data"
    }
   ],
   "source": [
    "# Copying the data to another variable to avoid any changes to original data\n",
    "data = trip.copy()"
   ]
  },
  {
   "cell_type": "markdown",
   "id": "cf3dd012",
   "metadata": {},
   "source": [
    "### Viewing the first / last  5 rows of the dataset"
   ]
  },
  {
   "cell_type": "code",
   "execution_count": 309,
   "id": "5303ca3b",
   "metadata": {},
   "outputs": [
    {
     "data": {
      "text/html": [
       "<div>\n",
       "<style scoped>\n",
       "    .dataframe tbody tr th:only-of-type {\n",
       "        vertical-align: middle;\n",
       "    }\n",
       "\n",
       "    .dataframe tbody tr th {\n",
       "        vertical-align: top;\n",
       "    }\n",
       "\n",
       "    .dataframe thead th {\n",
       "        text-align: right;\n",
       "    }\n",
       "</style>\n",
       "<table border=\"1\" class=\"dataframe\">\n",
       "  <thead>\n",
       "    <tr style=\"text-align: right;\">\n",
       "      <th></th>\n",
       "      <th>VendorID</th>\n",
       "      <th>lpep_pickup_datetime</th>\n",
       "      <th>lpep_dropoff_datetime</th>\n",
       "      <th>store_and_fwd_flag</th>\n",
       "      <th>RatecodeID</th>\n",
       "      <th>PULocationID</th>\n",
       "      <th>DOLocationID</th>\n",
       "      <th>passenger_count</th>\n",
       "      <th>trip_distance</th>\n",
       "      <th>fare_amount</th>\n",
       "      <th>extra</th>\n",
       "      <th>mta_tax</th>\n",
       "      <th>tip_amount</th>\n",
       "      <th>tolls_amount</th>\n",
       "      <th>ehail_fee</th>\n",
       "      <th>improvement_surcharge</th>\n",
       "      <th>total_amount</th>\n",
       "      <th>payment_type</th>\n",
       "      <th>trip_type</th>\n",
       "    </tr>\n",
       "  </thead>\n",
       "  <tbody>\n",
       "    <tr>\n",
       "      <th>0</th>\n",
       "      <td>2</td>\n",
       "      <td>9/1/2016 0:58</td>\n",
       "      <td>9/1/2016 1:11</td>\n",
       "      <td>N</td>\n",
       "      <td>1</td>\n",
       "      <td>92</td>\n",
       "      <td>82</td>\n",
       "      <td>1</td>\n",
       "      <td>3.34</td>\n",
       "      <td>12.5</td>\n",
       "      <td>0.5</td>\n",
       "      <td>0.5</td>\n",
       "      <td>1.00</td>\n",
       "      <td>0.0</td>\n",
       "      <td>NaN</td>\n",
       "      <td>0.3</td>\n",
       "      <td>14.80</td>\n",
       "      <td>1</td>\n",
       "      <td>1.0</td>\n",
       "    </tr>\n",
       "    <tr>\n",
       "      <th>1</th>\n",
       "      <td>2</td>\n",
       "      <td>9/1/2016 0:49</td>\n",
       "      <td>9/1/2016 1:05</td>\n",
       "      <td>N</td>\n",
       "      <td>1</td>\n",
       "      <td>83</td>\n",
       "      <td>92</td>\n",
       "      <td>2</td>\n",
       "      <td>3.78</td>\n",
       "      <td>14.5</td>\n",
       "      <td>0.5</td>\n",
       "      <td>0.5</td>\n",
       "      <td>0.00</td>\n",
       "      <td>0.0</td>\n",
       "      <td>NaN</td>\n",
       "      <td>0.3</td>\n",
       "      <td>15.80</td>\n",
       "      <td>2</td>\n",
       "      <td>1.0</td>\n",
       "    </tr>\n",
       "    <tr>\n",
       "      <th>2</th>\n",
       "      <td>2</td>\n",
       "      <td>9/1/2016 0:06</td>\n",
       "      <td>9/1/2016 0:15</td>\n",
       "      <td>N</td>\n",
       "      <td>1</td>\n",
       "      <td>93</td>\n",
       "      <td>223</td>\n",
       "      <td>1</td>\n",
       "      <td>4.84</td>\n",
       "      <td>15.0</td>\n",
       "      <td>0.5</td>\n",
       "      <td>0.5</td>\n",
       "      <td>0.00</td>\n",
       "      <td>0.0</td>\n",
       "      <td>NaN</td>\n",
       "      <td>0.3</td>\n",
       "      <td>16.30</td>\n",
       "      <td>2</td>\n",
       "      <td>1.0</td>\n",
       "    </tr>\n",
       "    <tr>\n",
       "      <th>3</th>\n",
       "      <td>2</td>\n",
       "      <td>9/1/2016 0:28</td>\n",
       "      <td>9/1/2016 1:07</td>\n",
       "      <td>N</td>\n",
       "      <td>4</td>\n",
       "      <td>93</td>\n",
       "      <td>265</td>\n",
       "      <td>1</td>\n",
       "      <td>28.26</td>\n",
       "      <td>119.0</td>\n",
       "      <td>0.5</td>\n",
       "      <td>0.5</td>\n",
       "      <td>30.08</td>\n",
       "      <td>0.0</td>\n",
       "      <td>NaN</td>\n",
       "      <td>0.3</td>\n",
       "      <td>150.38</td>\n",
       "      <td>1</td>\n",
       "      <td>1.0</td>\n",
       "    </tr>\n",
       "    <tr>\n",
       "      <th>4</th>\n",
       "      <td>2</td>\n",
       "      <td>9/1/2016 0:17</td>\n",
       "      <td>9/1/2016 0:27</td>\n",
       "      <td>N</td>\n",
       "      <td>1</td>\n",
       "      <td>130</td>\n",
       "      <td>63</td>\n",
       "      <td>1</td>\n",
       "      <td>3.50</td>\n",
       "      <td>12.0</td>\n",
       "      <td>0.5</td>\n",
       "      <td>0.5</td>\n",
       "      <td>2.66</td>\n",
       "      <td>0.0</td>\n",
       "      <td>NaN</td>\n",
       "      <td>0.3</td>\n",
       "      <td>15.96</td>\n",
       "      <td>1</td>\n",
       "      <td>1.0</td>\n",
       "    </tr>\n",
       "  </tbody>\n",
       "</table>\n",
       "</div>"
      ],
      "text/plain": [
       "   VendorID lpep_pickup_datetime lpep_dropoff_datetime store_and_fwd_flag  \\\n",
       "0         2        9/1/2016 0:58         9/1/2016 1:11                  N   \n",
       "1         2        9/1/2016 0:49         9/1/2016 1:05                  N   \n",
       "2         2        9/1/2016 0:06         9/1/2016 0:15                  N   \n",
       "3         2        9/1/2016 0:28         9/1/2016 1:07                  N   \n",
       "4         2        9/1/2016 0:17         9/1/2016 0:27                  N   \n",
       "\n",
       "   RatecodeID  PULocationID  DOLocationID  passenger_count  trip_distance  \\\n",
       "0           1            92            82                1           3.34   \n",
       "1           1            83            92                2           3.78   \n",
       "2           1            93           223                1           4.84   \n",
       "3           4            93           265                1          28.26   \n",
       "4           1           130            63                1           3.50   \n",
       "\n",
       "   fare_amount  extra  mta_tax  tip_amount  tolls_amount  ehail_fee  \\\n",
       "0         12.5    0.5      0.5        1.00           0.0        NaN   \n",
       "1         14.5    0.5      0.5        0.00           0.0        NaN   \n",
       "2         15.0    0.5      0.5        0.00           0.0        NaN   \n",
       "3        119.0    0.5      0.5       30.08           0.0        NaN   \n",
       "4         12.0    0.5      0.5        2.66           0.0        NaN   \n",
       "\n",
       "   improvement_surcharge  total_amount  payment_type  trip_type  \n",
       "0                    0.3         14.80             1        1.0  \n",
       "1                    0.3         15.80             2        1.0  \n",
       "2                    0.3         16.30             2        1.0  \n",
       "3                    0.3        150.38             1        1.0  \n",
       "4                    0.3         15.96             1        1.0  "
      ]
     },
     "execution_count": 309,
     "metadata": {},
     "output_type": "execute_result"
    },
    {
     "data": {
      "application/javascript": [
       "\n",
       "            setTimeout(function() {\n",
       "                var nbb_cell_id = 309;\n",
       "                var nbb_unformatted_code = \"# Viewing the first 5 rows of the dataset\\ndata.head()\";\n",
       "                var nbb_formatted_code = \"# Viewing the first 5 rows of the dataset\\ndata.head()\";\n",
       "                var nbb_cells = Jupyter.notebook.get_cells();\n",
       "                for (var i = 0; i < nbb_cells.length; ++i) {\n",
       "                    if (nbb_cells[i].input_prompt_number == nbb_cell_id) {\n",
       "                        if (nbb_cells[i].get_text() == nbb_unformatted_code) {\n",
       "                             nbb_cells[i].set_text(nbb_formatted_code);\n",
       "                        }\n",
       "                        break;\n",
       "                    }\n",
       "                }\n",
       "            }, 500);\n",
       "            "
      ],
      "text/plain": [
       "<IPython.core.display.Javascript object>"
      ]
     },
     "metadata": {},
     "output_type": "display_data"
    }
   ],
   "source": [
    "# Viewing the first 5 rows of the dataset\n",
    "data.head()"
   ]
  },
  {
   "cell_type": "code",
   "execution_count": 310,
   "id": "77798e81",
   "metadata": {},
   "outputs": [
    {
     "data": {
      "text/html": [
       "<div>\n",
       "<style scoped>\n",
       "    .dataframe tbody tr th:only-of-type {\n",
       "        vertical-align: middle;\n",
       "    }\n",
       "\n",
       "    .dataframe tbody tr th {\n",
       "        vertical-align: top;\n",
       "    }\n",
       "\n",
       "    .dataframe thead th {\n",
       "        text-align: right;\n",
       "    }\n",
       "</style>\n",
       "<table border=\"1\" class=\"dataframe\">\n",
       "  <thead>\n",
       "    <tr style=\"text-align: right;\">\n",
       "      <th></th>\n",
       "      <th>VendorID</th>\n",
       "      <th>lpep_pickup_datetime</th>\n",
       "      <th>lpep_dropoff_datetime</th>\n",
       "      <th>store_and_fwd_flag</th>\n",
       "      <th>RatecodeID</th>\n",
       "      <th>PULocationID</th>\n",
       "      <th>DOLocationID</th>\n",
       "      <th>passenger_count</th>\n",
       "      <th>trip_distance</th>\n",
       "      <th>fare_amount</th>\n",
       "      <th>extra</th>\n",
       "      <th>mta_tax</th>\n",
       "      <th>tip_amount</th>\n",
       "      <th>tolls_amount</th>\n",
       "      <th>ehail_fee</th>\n",
       "      <th>improvement_surcharge</th>\n",
       "      <th>total_amount</th>\n",
       "      <th>payment_type</th>\n",
       "      <th>trip_type</th>\n",
       "    </tr>\n",
       "  </thead>\n",
       "  <tbody>\n",
       "    <tr>\n",
       "      <th>1048569</th>\n",
       "      <td>2</td>\n",
       "      <td>9/28/2016 11:09</td>\n",
       "      <td>9/28/2016 11:17</td>\n",
       "      <td>N</td>\n",
       "      <td>1</td>\n",
       "      <td>74</td>\n",
       "      <td>42</td>\n",
       "      <td>1</td>\n",
       "      <td>1.20</td>\n",
       "      <td>7.0</td>\n",
       "      <td>0.0</td>\n",
       "      <td>0.5</td>\n",
       "      <td>1.95</td>\n",
       "      <td>0.0</td>\n",
       "      <td>NaN</td>\n",
       "      <td>0.3</td>\n",
       "      <td>9.75</td>\n",
       "      <td>1</td>\n",
       "      <td>1.0</td>\n",
       "    </tr>\n",
       "    <tr>\n",
       "      <th>1048570</th>\n",
       "      <td>2</td>\n",
       "      <td>9/28/2016 11:07</td>\n",
       "      <td>9/28/2016 11:20</td>\n",
       "      <td>N</td>\n",
       "      <td>1</td>\n",
       "      <td>33</td>\n",
       "      <td>45</td>\n",
       "      <td>1</td>\n",
       "      <td>2.23</td>\n",
       "      <td>11.0</td>\n",
       "      <td>0.0</td>\n",
       "      <td>0.5</td>\n",
       "      <td>0.00</td>\n",
       "      <td>0.0</td>\n",
       "      <td>NaN</td>\n",
       "      <td>0.3</td>\n",
       "      <td>11.80</td>\n",
       "      <td>1</td>\n",
       "      <td>1.0</td>\n",
       "    </tr>\n",
       "    <tr>\n",
       "      <th>1048571</th>\n",
       "      <td>2</td>\n",
       "      <td>9/28/2016 11:38</td>\n",
       "      <td>9/28/2016 12:06</td>\n",
       "      <td>N</td>\n",
       "      <td>1</td>\n",
       "      <td>33</td>\n",
       "      <td>70</td>\n",
       "      <td>1</td>\n",
       "      <td>11.56</td>\n",
       "      <td>33.5</td>\n",
       "      <td>0.0</td>\n",
       "      <td>0.5</td>\n",
       "      <td>0.00</td>\n",
       "      <td>0.0</td>\n",
       "      <td>NaN</td>\n",
       "      <td>0.3</td>\n",
       "      <td>34.30</td>\n",
       "      <td>2</td>\n",
       "      <td>1.0</td>\n",
       "    </tr>\n",
       "    <tr>\n",
       "      <th>1048572</th>\n",
       "      <td>2</td>\n",
       "      <td>9/28/2016 11:12</td>\n",
       "      <td>9/28/2016 11:21</td>\n",
       "      <td>N</td>\n",
       "      <td>1</td>\n",
       "      <td>196</td>\n",
       "      <td>196</td>\n",
       "      <td>1</td>\n",
       "      <td>2.11</td>\n",
       "      <td>9.5</td>\n",
       "      <td>0.0</td>\n",
       "      <td>0.5</td>\n",
       "      <td>0.00</td>\n",
       "      <td>0.0</td>\n",
       "      <td>NaN</td>\n",
       "      <td>0.3</td>\n",
       "      <td>10.30</td>\n",
       "      <td>2</td>\n",
       "      <td>1.0</td>\n",
       "    </tr>\n",
       "    <tr>\n",
       "      <th>1048573</th>\n",
       "      <td>2</td>\n",
       "      <td>9/28/2016 11:57</td>\n",
       "      <td>9/28/2016 11:58</td>\n",
       "      <td>N</td>\n",
       "      <td>1</td>\n",
       "      <td>112</td>\n",
       "      <td>255</td>\n",
       "      <td>1</td>\n",
       "      <td>0.34</td>\n",
       "      <td>3.0</td>\n",
       "      <td>0.0</td>\n",
       "      <td>0.5</td>\n",
       "      <td>0.00</td>\n",
       "      <td>0.0</td>\n",
       "      <td>NaN</td>\n",
       "      <td>0.3</td>\n",
       "      <td>3.80</td>\n",
       "      <td>2</td>\n",
       "      <td>1.0</td>\n",
       "    </tr>\n",
       "  </tbody>\n",
       "</table>\n",
       "</div>"
      ],
      "text/plain": [
       "         VendorID lpep_pickup_datetime lpep_dropoff_datetime  \\\n",
       "1048569         2      9/28/2016 11:09       9/28/2016 11:17   \n",
       "1048570         2      9/28/2016 11:07       9/28/2016 11:20   \n",
       "1048571         2      9/28/2016 11:38       9/28/2016 12:06   \n",
       "1048572         2      9/28/2016 11:12       9/28/2016 11:21   \n",
       "1048573         2      9/28/2016 11:57       9/28/2016 11:58   \n",
       "\n",
       "        store_and_fwd_flag  RatecodeID  PULocationID  DOLocationID  \\\n",
       "1048569                  N           1            74            42   \n",
       "1048570                  N           1            33            45   \n",
       "1048571                  N           1            33            70   \n",
       "1048572                  N           1           196           196   \n",
       "1048573                  N           1           112           255   \n",
       "\n",
       "         passenger_count  trip_distance  fare_amount  extra  mta_tax  \\\n",
       "1048569                1           1.20          7.0    0.0      0.5   \n",
       "1048570                1           2.23         11.0    0.0      0.5   \n",
       "1048571                1          11.56         33.5    0.0      0.5   \n",
       "1048572                1           2.11          9.5    0.0      0.5   \n",
       "1048573                1           0.34          3.0    0.0      0.5   \n",
       "\n",
       "         tip_amount  tolls_amount  ehail_fee  improvement_surcharge  \\\n",
       "1048569        1.95           0.0        NaN                    0.3   \n",
       "1048570        0.00           0.0        NaN                    0.3   \n",
       "1048571        0.00           0.0        NaN                    0.3   \n",
       "1048572        0.00           0.0        NaN                    0.3   \n",
       "1048573        0.00           0.0        NaN                    0.3   \n",
       "\n",
       "         total_amount  payment_type  trip_type  \n",
       "1048569          9.75             1        1.0  \n",
       "1048570         11.80             1        1.0  \n",
       "1048571         34.30             2        1.0  \n",
       "1048572         10.30             2        1.0  \n",
       "1048573          3.80             2        1.0  "
      ]
     },
     "execution_count": 310,
     "metadata": {},
     "output_type": "execute_result"
    },
    {
     "data": {
      "application/javascript": [
       "\n",
       "            setTimeout(function() {\n",
       "                var nbb_cell_id = 310;\n",
       "                var nbb_unformatted_code = \"# Viewing the last 5 rows of the dataset\\ndata.tail()\";\n",
       "                var nbb_formatted_code = \"# Viewing the last 5 rows of the dataset\\ndata.tail()\";\n",
       "                var nbb_cells = Jupyter.notebook.get_cells();\n",
       "                for (var i = 0; i < nbb_cells.length; ++i) {\n",
       "                    if (nbb_cells[i].input_prompt_number == nbb_cell_id) {\n",
       "                        if (nbb_cells[i].get_text() == nbb_unformatted_code) {\n",
       "                             nbb_cells[i].set_text(nbb_formatted_code);\n",
       "                        }\n",
       "                        break;\n",
       "                    }\n",
       "                }\n",
       "            }, 500);\n",
       "            "
      ],
      "text/plain": [
       "<IPython.core.display.Javascript object>"
      ]
     },
     "metadata": {},
     "output_type": "display_data"
    }
   ],
   "source": [
    "# Viewing the last 5 rows of the dataset\n",
    "data.tail()"
   ]
  },
  {
   "cell_type": "markdown",
   "id": "0810a74e",
   "metadata": {},
   "source": [
    "### Check for Structure of the Data, Duplicate rows and Null values"
   ]
  },
  {
   "cell_type": "code",
   "execution_count": 311,
   "id": "651d0c76",
   "metadata": {},
   "outputs": [
    {
     "name": "stdout",
     "output_type": "stream",
     "text": [
      "<class 'pandas.core.frame.DataFrame'>\n",
      "RangeIndex: 1048574 entries, 0 to 1048573\n",
      "Data columns (total 19 columns):\n",
      " #   Column                 Non-Null Count    Dtype  \n",
      "---  ------                 --------------    -----  \n",
      " 0   VendorID               1048574 non-null  int64  \n",
      " 1   lpep_pickup_datetime   1048574 non-null  object \n",
      " 2   lpep_dropoff_datetime  1048574 non-null  object \n",
      " 3   store_and_fwd_flag     1048574 non-null  object \n",
      " 4   RatecodeID             1048574 non-null  int64  \n",
      " 5   PULocationID           1048574 non-null  int64  \n",
      " 6   DOLocationID           1048574 non-null  int64  \n",
      " 7   passenger_count        1048574 non-null  int64  \n",
      " 8   trip_distance          1048574 non-null  float64\n",
      " 9   fare_amount            1048574 non-null  float64\n",
      " 10  extra                  1048574 non-null  float64\n",
      " 11  mta_tax                1048574 non-null  float64\n",
      " 12  tip_amount             1048574 non-null  float64\n",
      " 13  tolls_amount           1048574 non-null  float64\n",
      " 14  ehail_fee              0 non-null        float64\n",
      " 15  improvement_surcharge  1048574 non-null  float64\n",
      " 16  total_amount           1048574 non-null  float64\n",
      " 17  payment_type           1048574 non-null  int64  \n",
      " 18  trip_type              1048573 non-null  float64\n",
      "dtypes: float64(10), int64(6), object(3)\n",
      "memory usage: 152.0+ MB\n"
     ]
    },
    {
     "data": {
      "application/javascript": [
       "\n",
       "            setTimeout(function() {\n",
       "                var nbb_cell_id = 311;\n",
       "                var nbb_unformatted_code = \"data.info()\";\n",
       "                var nbb_formatted_code = \"data.info()\";\n",
       "                var nbb_cells = Jupyter.notebook.get_cells();\n",
       "                for (var i = 0; i < nbb_cells.length; ++i) {\n",
       "                    if (nbb_cells[i].input_prompt_number == nbb_cell_id) {\n",
       "                        if (nbb_cells[i].get_text() == nbb_unformatted_code) {\n",
       "                             nbb_cells[i].set_text(nbb_formatted_code);\n",
       "                        }\n",
       "                        break;\n",
       "                    }\n",
       "                }\n",
       "            }, 500);\n",
       "            "
      ],
      "text/plain": [
       "<IPython.core.display.Javascript object>"
      ]
     },
     "metadata": {},
     "output_type": "display_data"
    }
   ],
   "source": [
    "data.info()"
   ]
  },
  {
   "cell_type": "code",
   "execution_count": 312,
   "id": "e524b22b",
   "metadata": {},
   "outputs": [
    {
     "data": {
      "text/plain": [
       "109"
      ]
     },
     "execution_count": 312,
     "metadata": {},
     "output_type": "execute_result"
    },
    {
     "data": {
      "application/javascript": [
       "\n",
       "            setTimeout(function() {\n",
       "                var nbb_cell_id = 312;\n",
       "                var nbb_unformatted_code = \"data.duplicated().sum()\";\n",
       "                var nbb_formatted_code = \"data.duplicated().sum()\";\n",
       "                var nbb_cells = Jupyter.notebook.get_cells();\n",
       "                for (var i = 0; i < nbb_cells.length; ++i) {\n",
       "                    if (nbb_cells[i].input_prompt_number == nbb_cell_id) {\n",
       "                        if (nbb_cells[i].get_text() == nbb_unformatted_code) {\n",
       "                             nbb_cells[i].set_text(nbb_formatted_code);\n",
       "                        }\n",
       "                        break;\n",
       "                    }\n",
       "                }\n",
       "            }, 500);\n",
       "            "
      ],
      "text/plain": [
       "<IPython.core.display.Javascript object>"
      ]
     },
     "metadata": {},
     "output_type": "display_data"
    }
   ],
   "source": [
    "data.duplicated().sum()"
   ]
  },
  {
   "cell_type": "markdown",
   "id": "460921c7",
   "metadata": {},
   "source": [
    "Observation\n",
    "* Since there are only a small percentage of rows , which are duplicated, we are not cleaning up them for this exercise."
   ]
  },
  {
   "cell_type": "code",
   "execution_count": 313,
   "id": "64feb1cf",
   "metadata": {},
   "outputs": [
    {
     "data": {
      "text/plain": [
       "VendorID                       0\n",
       "lpep_pickup_datetime           0\n",
       "lpep_dropoff_datetime          0\n",
       "store_and_fwd_flag             0\n",
       "RatecodeID                     0\n",
       "PULocationID                   0\n",
       "DOLocationID                   0\n",
       "passenger_count                0\n",
       "trip_distance                  0\n",
       "fare_amount                    0\n",
       "extra                          0\n",
       "mta_tax                        0\n",
       "tip_amount                     0\n",
       "tolls_amount                   0\n",
       "ehail_fee                1048574\n",
       "improvement_surcharge          0\n",
       "total_amount                   0\n",
       "payment_type                   0\n",
       "trip_type                      1\n",
       "dtype: int64"
      ]
     },
     "execution_count": 313,
     "metadata": {},
     "output_type": "execute_result"
    },
    {
     "data": {
      "application/javascript": [
       "\n",
       "            setTimeout(function() {\n",
       "                var nbb_cell_id = 313;\n",
       "                var nbb_unformatted_code = \"# checking for missing values\\ndata.isna().sum()\";\n",
       "                var nbb_formatted_code = \"# checking for missing values\\ndata.isna().sum()\";\n",
       "                var nbb_cells = Jupyter.notebook.get_cells();\n",
       "                for (var i = 0; i < nbb_cells.length; ++i) {\n",
       "                    if (nbb_cells[i].input_prompt_number == nbb_cell_id) {\n",
       "                        if (nbb_cells[i].get_text() == nbb_unformatted_code) {\n",
       "                             nbb_cells[i].set_text(nbb_formatted_code);\n",
       "                        }\n",
       "                        break;\n",
       "                    }\n",
       "                }\n",
       "            }, 500);\n",
       "            "
      ],
      "text/plain": [
       "<IPython.core.display.Javascript object>"
      ]
     },
     "metadata": {},
     "output_type": "display_data"
    }
   ],
   "source": [
    "# checking for missing values\n",
    "data.isna().sum()"
   ]
  },
  {
   "cell_type": "markdown",
   "id": "a9290975",
   "metadata": {},
   "source": [
    "Observation\n",
    "* ehail_fee column is NULL for all the rows in the dataset.\n",
    "* trip_type has one row with NULL value"
   ]
  },
  {
   "cell_type": "markdown",
   "id": "17029ad8",
   "metadata": {},
   "source": [
    "### Statistical Summary of the data"
   ]
  },
  {
   "cell_type": "code",
   "execution_count": 314,
   "id": "c487d7fb",
   "metadata": {},
   "outputs": [
    {
     "data": {
      "text/html": [
       "<div>\n",
       "<style scoped>\n",
       "    .dataframe tbody tr th:only-of-type {\n",
       "        vertical-align: middle;\n",
       "    }\n",
       "\n",
       "    .dataframe tbody tr th {\n",
       "        vertical-align: top;\n",
       "    }\n",
       "\n",
       "    .dataframe thead th {\n",
       "        text-align: right;\n",
       "    }\n",
       "</style>\n",
       "<table border=\"1\" class=\"dataframe\">\n",
       "  <thead>\n",
       "    <tr style=\"text-align: right;\">\n",
       "      <th></th>\n",
       "      <th>count</th>\n",
       "      <th>mean</th>\n",
       "      <th>std</th>\n",
       "      <th>min</th>\n",
       "      <th>25%</th>\n",
       "      <th>50%</th>\n",
       "      <th>75%</th>\n",
       "      <th>max</th>\n",
       "    </tr>\n",
       "  </thead>\n",
       "  <tbody>\n",
       "    <tr>\n",
       "      <th>VendorID</th>\n",
       "      <td>1048574.0</td>\n",
       "      <td>1.794415</td>\n",
       "      <td>0.404129</td>\n",
       "      <td>1.00</td>\n",
       "      <td>2.00</td>\n",
       "      <td>2.00</td>\n",
       "      <td>2.00</td>\n",
       "      <td>2.00</td>\n",
       "    </tr>\n",
       "    <tr>\n",
       "      <th>RatecodeID</th>\n",
       "      <td>1048574.0</td>\n",
       "      <td>1.090367</td>\n",
       "      <td>0.591207</td>\n",
       "      <td>1.00</td>\n",
       "      <td>1.00</td>\n",
       "      <td>1.00</td>\n",
       "      <td>1.00</td>\n",
       "      <td>99.00</td>\n",
       "    </tr>\n",
       "    <tr>\n",
       "      <th>PULocationID</th>\n",
       "      <td>1048574.0</td>\n",
       "      <td>115.022296</td>\n",
       "      <td>76.743564</td>\n",
       "      <td>1.00</td>\n",
       "      <td>49.00</td>\n",
       "      <td>92.00</td>\n",
       "      <td>173.00</td>\n",
       "      <td>265.00</td>\n",
       "    </tr>\n",
       "    <tr>\n",
       "      <th>DOLocationID</th>\n",
       "      <td>1048574.0</td>\n",
       "      <td>129.932403</td>\n",
       "      <td>77.303966</td>\n",
       "      <td>1.00</td>\n",
       "      <td>62.00</td>\n",
       "      <td>129.00</td>\n",
       "      <td>194.00</td>\n",
       "      <td>265.00</td>\n",
       "    </tr>\n",
       "    <tr>\n",
       "      <th>passenger_count</th>\n",
       "      <td>1048574.0</td>\n",
       "      <td>1.343452</td>\n",
       "      <td>1.002538</td>\n",
       "      <td>0.00</td>\n",
       "      <td>1.00</td>\n",
       "      <td>1.00</td>\n",
       "      <td>1.00</td>\n",
       "      <td>9.00</td>\n",
       "    </tr>\n",
       "    <tr>\n",
       "      <th>trip_distance</th>\n",
       "      <td>1048574.0</td>\n",
       "      <td>2.860162</td>\n",
       "      <td>3.002495</td>\n",
       "      <td>0.00</td>\n",
       "      <td>1.04</td>\n",
       "      <td>1.87</td>\n",
       "      <td>3.55</td>\n",
       "      <td>227.44</td>\n",
       "    </tr>\n",
       "    <tr>\n",
       "      <th>fare_amount</th>\n",
       "      <td>1048574.0</td>\n",
       "      <td>12.418826</td>\n",
       "      <td>10.908991</td>\n",
       "      <td>-300.09</td>\n",
       "      <td>6.50</td>\n",
       "      <td>9.50</td>\n",
       "      <td>15.00</td>\n",
       "      <td>3361.00</td>\n",
       "    </tr>\n",
       "    <tr>\n",
       "      <th>extra</th>\n",
       "      <td>1048574.0</td>\n",
       "      <td>0.351018</td>\n",
       "      <td>0.378848</td>\n",
       "      <td>-4.50</td>\n",
       "      <td>0.00</td>\n",
       "      <td>0.50</td>\n",
       "      <td>0.50</td>\n",
       "      <td>4.50</td>\n",
       "    </tr>\n",
       "    <tr>\n",
       "      <th>mta_tax</th>\n",
       "      <td>1048574.0</td>\n",
       "      <td>0.486919</td>\n",
       "      <td>0.085179</td>\n",
       "      <td>-0.50</td>\n",
       "      <td>0.50</td>\n",
       "      <td>0.50</td>\n",
       "      <td>0.50</td>\n",
       "      <td>0.50</td>\n",
       "    </tr>\n",
       "    <tr>\n",
       "      <th>tip_amount</th>\n",
       "      <td>1048574.0</td>\n",
       "      <td>1.221026</td>\n",
       "      <td>2.344198</td>\n",
       "      <td>-11.46</td>\n",
       "      <td>0.00</td>\n",
       "      <td>0.00</td>\n",
       "      <td>2.00</td>\n",
       "      <td>289.00</td>\n",
       "    </tr>\n",
       "    <tr>\n",
       "      <th>tolls_amount</th>\n",
       "      <td>1048574.0</td>\n",
       "      <td>0.121614</td>\n",
       "      <td>0.947559</td>\n",
       "      <td>-50.00</td>\n",
       "      <td>0.00</td>\n",
       "      <td>0.00</td>\n",
       "      <td>0.00</td>\n",
       "      <td>150.00</td>\n",
       "    </tr>\n",
       "    <tr>\n",
       "      <th>ehail_fee</th>\n",
       "      <td>0.0</td>\n",
       "      <td>NaN</td>\n",
       "      <td>NaN</td>\n",
       "      <td>NaN</td>\n",
       "      <td>NaN</td>\n",
       "      <td>NaN</td>\n",
       "      <td>NaN</td>\n",
       "      <td>NaN</td>\n",
       "    </tr>\n",
       "    <tr>\n",
       "      <th>improvement_surcharge</th>\n",
       "      <td>1048574.0</td>\n",
       "      <td>0.292212</td>\n",
       "      <td>0.050941</td>\n",
       "      <td>-0.30</td>\n",
       "      <td>0.30</td>\n",
       "      <td>0.30</td>\n",
       "      <td>0.30</td>\n",
       "      <td>0.30</td>\n",
       "    </tr>\n",
       "    <tr>\n",
       "      <th>total_amount</th>\n",
       "      <td>1048574.0</td>\n",
       "      <td>14.933951</td>\n",
       "      <td>12.319275</td>\n",
       "      <td>-300.09</td>\n",
       "      <td>8.15</td>\n",
       "      <td>11.30</td>\n",
       "      <td>17.80</td>\n",
       "      <td>3362.80</td>\n",
       "    </tr>\n",
       "    <tr>\n",
       "      <th>payment_type</th>\n",
       "      <td>1048574.0</td>\n",
       "      <td>1.526420</td>\n",
       "      <td>0.524699</td>\n",
       "      <td>1.00</td>\n",
       "      <td>1.00</td>\n",
       "      <td>2.00</td>\n",
       "      <td>2.00</td>\n",
       "      <td>5.00</td>\n",
       "    </tr>\n",
       "    <tr>\n",
       "      <th>trip_type</th>\n",
       "      <td>1048573.0</td>\n",
       "      <td>1.021063</td>\n",
       "      <td>0.143594</td>\n",
       "      <td>1.00</td>\n",
       "      <td>1.00</td>\n",
       "      <td>1.00</td>\n",
       "      <td>1.00</td>\n",
       "      <td>2.00</td>\n",
       "    </tr>\n",
       "  </tbody>\n",
       "</table>\n",
       "</div>"
      ],
      "text/plain": [
       "                           count        mean        std     min    25%  \\\n",
       "VendorID               1048574.0    1.794415   0.404129    1.00   2.00   \n",
       "RatecodeID             1048574.0    1.090367   0.591207    1.00   1.00   \n",
       "PULocationID           1048574.0  115.022296  76.743564    1.00  49.00   \n",
       "DOLocationID           1048574.0  129.932403  77.303966    1.00  62.00   \n",
       "passenger_count        1048574.0    1.343452   1.002538    0.00   1.00   \n",
       "trip_distance          1048574.0    2.860162   3.002495    0.00   1.04   \n",
       "fare_amount            1048574.0   12.418826  10.908991 -300.09   6.50   \n",
       "extra                  1048574.0    0.351018   0.378848   -4.50   0.00   \n",
       "mta_tax                1048574.0    0.486919   0.085179   -0.50   0.50   \n",
       "tip_amount             1048574.0    1.221026   2.344198  -11.46   0.00   \n",
       "tolls_amount           1048574.0    0.121614   0.947559  -50.00   0.00   \n",
       "ehail_fee                    0.0         NaN        NaN     NaN    NaN   \n",
       "improvement_surcharge  1048574.0    0.292212   0.050941   -0.30   0.30   \n",
       "total_amount           1048574.0   14.933951  12.319275 -300.09   8.15   \n",
       "payment_type           1048574.0    1.526420   0.524699    1.00   1.00   \n",
       "trip_type              1048573.0    1.021063   0.143594    1.00   1.00   \n",
       "\n",
       "                          50%     75%      max  \n",
       "VendorID                 2.00    2.00     2.00  \n",
       "RatecodeID               1.00    1.00    99.00  \n",
       "PULocationID            92.00  173.00   265.00  \n",
       "DOLocationID           129.00  194.00   265.00  \n",
       "passenger_count          1.00    1.00     9.00  \n",
       "trip_distance            1.87    3.55   227.44  \n",
       "fare_amount              9.50   15.00  3361.00  \n",
       "extra                    0.50    0.50     4.50  \n",
       "mta_tax                  0.50    0.50     0.50  \n",
       "tip_amount               0.00    2.00   289.00  \n",
       "tolls_amount             0.00    0.00   150.00  \n",
       "ehail_fee                 NaN     NaN      NaN  \n",
       "improvement_surcharge    0.30    0.30     0.30  \n",
       "total_amount            11.30   17.80  3362.80  \n",
       "payment_type             2.00    2.00     5.00  \n",
       "trip_type                1.00    1.00     2.00  "
      ]
     },
     "execution_count": 314,
     "metadata": {},
     "output_type": "execute_result"
    },
    {
     "data": {
      "application/javascript": [
       "\n",
       "            setTimeout(function() {\n",
       "                var nbb_cell_id = 314;\n",
       "                var nbb_unformatted_code = \"# let's view the statistical summary of the numerical columns in the data\\ndata.describe().T\";\n",
       "                var nbb_formatted_code = \"# let's view the statistical summary of the numerical columns in the data\\ndata.describe().T\";\n",
       "                var nbb_cells = Jupyter.notebook.get_cells();\n",
       "                for (var i = 0; i < nbb_cells.length; ++i) {\n",
       "                    if (nbb_cells[i].input_prompt_number == nbb_cell_id) {\n",
       "                        if (nbb_cells[i].get_text() == nbb_unformatted_code) {\n",
       "                             nbb_cells[i].set_text(nbb_formatted_code);\n",
       "                        }\n",
       "                        break;\n",
       "                    }\n",
       "                }\n",
       "            }, 500);\n",
       "            "
      ],
      "text/plain": [
       "<IPython.core.display.Javascript object>"
      ]
     },
     "metadata": {},
     "output_type": "display_data"
    }
   ],
   "source": [
    "# let's view the statistical summary of the numerical columns in the data\n",
    "data.describe().T"
   ]
  },
  {
   "cell_type": "markdown",
   "id": "97cb6ee2",
   "metadata": {},
   "source": [
    "Observation\n",
    "* Vendor ID has 2 unique values\n",
    "* PU LocationId and DO LocationID ranges from 1 to 265\n",
    "* Passenger Count ranges from 0 to 9\n",
    "* Trip Distance ranges from 0 to 227 \n",
    "* Some of the amount values has negative values.. which needs further investigation\n",
    "* There are 5 different payment types, 2 different trip types\n",
    "* Further Analysis of the relevant columns are provided below. \n"
   ]
  },
  {
   "cell_type": "markdown",
   "id": "b98739ac",
   "metadata": {},
   "source": [
    "### Check the unique values in some Categorical columns"
   ]
  },
  {
   "cell_type": "code",
   "execution_count": 315,
   "id": "39475b9c",
   "metadata": {},
   "outputs": [
    {
     "name": "stdout",
     "output_type": "stream",
     "text": [
      "Unique values in the column 'VendorID' are \n",
      "\n",
      " [2 1]\n",
      "----------------------------------------------------------------------------------------------------\n",
      "Unique values in the column 'RatecodeID' are \n",
      "\n",
      " [ 1  4  5  3  2  6 99]\n",
      "----------------------------------------------------------------------------------------------------\n",
      "Unique values in the column 'passenger_count' are \n",
      "\n",
      " [1 2 5 3 4 6 0 7 8 9]\n",
      "----------------------------------------------------------------------------------------------------\n",
      "Unique values in the column 'payment_type' are \n",
      "\n",
      " [1 2 4 3 5]\n",
      "----------------------------------------------------------------------------------------------------\n",
      "Unique values in the column 'trip_type' are \n",
      "\n",
      " [ 1.  2. nan]\n",
      "----------------------------------------------------------------------------------------------------\n"
     ]
    },
    {
     "data": {
      "application/javascript": [
       "\n",
       "            setTimeout(function() {\n",
       "                var nbb_cell_id = 315;\n",
       "                var nbb_unformatted_code = \"# Let's see unique values in categorical columns\\ncols = [\\\"VendorID\\\", \\\"RatecodeID\\\", \\\"passenger_count\\\", \\\"payment_type\\\", \\\"trip_type\\\"]\\n\\nfor col in cols:\\n    print(\\\"Unique values in the column '{}' are \\\\n\\\\n\\\".format(col), data[col].unique())\\n    print(\\\"-\\\" * 100)\";\n",
       "                var nbb_formatted_code = \"# Let's see unique values in categorical columns\\ncols = [\\\"VendorID\\\", \\\"RatecodeID\\\", \\\"passenger_count\\\", \\\"payment_type\\\", \\\"trip_type\\\"]\\n\\nfor col in cols:\\n    print(\\\"Unique values in the column '{}' are \\\\n\\\\n\\\".format(col), data[col].unique())\\n    print(\\\"-\\\" * 100)\";\n",
       "                var nbb_cells = Jupyter.notebook.get_cells();\n",
       "                for (var i = 0; i < nbb_cells.length; ++i) {\n",
       "                    if (nbb_cells[i].input_prompt_number == nbb_cell_id) {\n",
       "                        if (nbb_cells[i].get_text() == nbb_unformatted_code) {\n",
       "                             nbb_cells[i].set_text(nbb_formatted_code);\n",
       "                        }\n",
       "                        break;\n",
       "                    }\n",
       "                }\n",
       "            }, 500);\n",
       "            "
      ],
      "text/plain": [
       "<IPython.core.display.Javascript object>"
      ]
     },
     "metadata": {},
     "output_type": "display_data"
    }
   ],
   "source": [
    "# Let's see unique values in categorical columns\n",
    "cols = [\"VendorID\", \"RatecodeID\", \"passenger_count\", \"payment_type\", \"trip_type\"]\n",
    "\n",
    "for col in cols:\n",
    "    print(\"Unique values in the column '{}' are \\n\\n\".format(col), data[col].unique())\n",
    "    print(\"-\" * 100)"
   ]
  },
  {
   "cell_type": "markdown",
   "id": "055cd92c",
   "metadata": {},
   "source": [
    "### Summary of the dataset"
   ]
  },
  {
   "cell_type": "markdown",
   "id": "ef679c00",
   "metadata": {},
   "source": [
    "* DataSet are 1048574 rows and 19 columns\n",
    "* DataSet has 10 columns of datatype float64, 6 columns of datatype int64 and 3 columns of datatype object.\n",
    "* There are 109 Duplicated rows\n",
    "* ehail_fee column is NULL for all the rows in the dataset.\n",
    "* trip_type has one row with NULL value\n",
    "* lpep_pickup_datetime and lpep_dropoff_datetime are objects storing date and time, so we need to split the values in hours etc for further analysis (New feature)\n",
    "* We also need to add new features to dataset to define certain id columns by mapping to their description from dataset."
   ]
  },
  {
   "cell_type": "markdown",
   "id": "8022d72c",
   "metadata": {},
   "source": [
    "## 2. Feature Engg."
   ]
  },
  {
   "cell_type": "markdown",
   "id": "3a428bc4",
   "metadata": {},
   "source": [
    "### Dropping the row where trip_type=NaN"
   ]
  },
  {
   "cell_type": "code",
   "execution_count": 316,
   "id": "92effd98",
   "metadata": {},
   "outputs": [
    {
     "data": {
      "application/javascript": [
       "\n",
       "            setTimeout(function() {\n",
       "                var nbb_cell_id = 316;\n",
       "                var nbb_unformatted_code = \"data.dropna(subset=[\\\"trip_type\\\"], inplace=True)\";\n",
       "                var nbb_formatted_code = \"data.dropna(subset=[\\\"trip_type\\\"], inplace=True)\";\n",
       "                var nbb_cells = Jupyter.notebook.get_cells();\n",
       "                for (var i = 0; i < nbb_cells.length; ++i) {\n",
       "                    if (nbb_cells[i].input_prompt_number == nbb_cell_id) {\n",
       "                        if (nbb_cells[i].get_text() == nbb_unformatted_code) {\n",
       "                             nbb_cells[i].set_text(nbb_formatted_code);\n",
       "                        }\n",
       "                        break;\n",
       "                    }\n",
       "                }\n",
       "            }, 500);\n",
       "            "
      ],
      "text/plain": [
       "<IPython.core.display.Javascript object>"
      ]
     },
     "metadata": {},
     "output_type": "display_data"
    }
   ],
   "source": [
    "data.dropna(subset=[\"trip_type\"], inplace=True)"
   ]
  },
  {
   "cell_type": "code",
   "execution_count": 317,
   "id": "c49eb121",
   "metadata": {},
   "outputs": [
    {
     "data": {
      "text/plain": [
       "VendorID                       0\n",
       "lpep_pickup_datetime           0\n",
       "lpep_dropoff_datetime          0\n",
       "store_and_fwd_flag             0\n",
       "RatecodeID                     0\n",
       "PULocationID                   0\n",
       "DOLocationID                   0\n",
       "passenger_count                0\n",
       "trip_distance                  0\n",
       "fare_amount                    0\n",
       "extra                          0\n",
       "mta_tax                        0\n",
       "tip_amount                     0\n",
       "tolls_amount                   0\n",
       "ehail_fee                1048573\n",
       "improvement_surcharge          0\n",
       "total_amount                   0\n",
       "payment_type                   0\n",
       "trip_type                      0\n",
       "dtype: int64"
      ]
     },
     "execution_count": 317,
     "metadata": {},
     "output_type": "execute_result"
    },
    {
     "data": {
      "application/javascript": [
       "\n",
       "            setTimeout(function() {\n",
       "                var nbb_cell_id = 317;\n",
       "                var nbb_unformatted_code = \"# checking for missing values\\ndata.isna().sum()\";\n",
       "                var nbb_formatted_code = \"# checking for missing values\\ndata.isna().sum()\";\n",
       "                var nbb_cells = Jupyter.notebook.get_cells();\n",
       "                for (var i = 0; i < nbb_cells.length; ++i) {\n",
       "                    if (nbb_cells[i].input_prompt_number == nbb_cell_id) {\n",
       "                        if (nbb_cells[i].get_text() == nbb_unformatted_code) {\n",
       "                             nbb_cells[i].set_text(nbb_formatted_code);\n",
       "                        }\n",
       "                        break;\n",
       "                    }\n",
       "                }\n",
       "            }, 500);\n",
       "            "
      ],
      "text/plain": [
       "<IPython.core.display.Javascript object>"
      ]
     },
     "metadata": {},
     "output_type": "display_data"
    }
   ],
   "source": [
    "# checking for missing values\n",
    "data.isna().sum()"
   ]
  },
  {
   "cell_type": "markdown",
   "id": "57e8ccfa",
   "metadata": {},
   "source": [
    "Observation\n",
    "* Except ehail_fee, there are no other NULL values in the dataset.\n"
   ]
  },
  {
   "cell_type": "markdown",
   "id": "8e5215f4",
   "metadata": {},
   "source": [
    "### Mapping specific ID Columns to meaningful names (as obtained from Data Dictionary)"
   ]
  },
  {
   "cell_type": "code",
   "execution_count": 318,
   "id": "924cc0f9",
   "metadata": {
    "scrolled": false
   },
   "outputs": [
    {
     "data": {
      "text/html": [
       "<div>\n",
       "<style scoped>\n",
       "    .dataframe tbody tr th:only-of-type {\n",
       "        vertical-align: middle;\n",
       "    }\n",
       "\n",
       "    .dataframe tbody tr th {\n",
       "        vertical-align: top;\n",
       "    }\n",
       "\n",
       "    .dataframe thead th {\n",
       "        text-align: right;\n",
       "    }\n",
       "</style>\n",
       "<table border=\"1\" class=\"dataframe\">\n",
       "  <thead>\n",
       "    <tr style=\"text-align: right;\">\n",
       "      <th></th>\n",
       "      <th>VendorID</th>\n",
       "      <th>lpep_pickup_datetime</th>\n",
       "      <th>lpep_dropoff_datetime</th>\n",
       "      <th>store_and_fwd_flag</th>\n",
       "      <th>RatecodeID</th>\n",
       "      <th>PULocationID</th>\n",
       "      <th>DOLocationID</th>\n",
       "      <th>passenger_count</th>\n",
       "      <th>trip_distance</th>\n",
       "      <th>fare_amount</th>\n",
       "      <th>...</th>\n",
       "      <th>tolls_amount</th>\n",
       "      <th>ehail_fee</th>\n",
       "      <th>improvement_surcharge</th>\n",
       "      <th>total_amount</th>\n",
       "      <th>payment_type</th>\n",
       "      <th>trip_type</th>\n",
       "      <th>Vendor_Name</th>\n",
       "      <th>Rate_Code</th>\n",
       "      <th>Payment_Type_Desc</th>\n",
       "      <th>Trip_Type_Desc</th>\n",
       "    </tr>\n",
       "  </thead>\n",
       "  <tbody>\n",
       "    <tr>\n",
       "      <th>0</th>\n",
       "      <td>2</td>\n",
       "      <td>9/1/2016 0:58</td>\n",
       "      <td>9/1/2016 1:11</td>\n",
       "      <td>N</td>\n",
       "      <td>1</td>\n",
       "      <td>92</td>\n",
       "      <td>82</td>\n",
       "      <td>1</td>\n",
       "      <td>3.34</td>\n",
       "      <td>12.5</td>\n",
       "      <td>...</td>\n",
       "      <td>0.0</td>\n",
       "      <td>NaN</td>\n",
       "      <td>0.3</td>\n",
       "      <td>14.80</td>\n",
       "      <td>1</td>\n",
       "      <td>1.0</td>\n",
       "      <td>Verifone Inc</td>\n",
       "      <td>Standard rate</td>\n",
       "      <td>Credit card</td>\n",
       "      <td>Street-hail</td>\n",
       "    </tr>\n",
       "    <tr>\n",
       "      <th>1</th>\n",
       "      <td>2</td>\n",
       "      <td>9/1/2016 0:49</td>\n",
       "      <td>9/1/2016 1:05</td>\n",
       "      <td>N</td>\n",
       "      <td>1</td>\n",
       "      <td>83</td>\n",
       "      <td>92</td>\n",
       "      <td>2</td>\n",
       "      <td>3.78</td>\n",
       "      <td>14.5</td>\n",
       "      <td>...</td>\n",
       "      <td>0.0</td>\n",
       "      <td>NaN</td>\n",
       "      <td>0.3</td>\n",
       "      <td>15.80</td>\n",
       "      <td>2</td>\n",
       "      <td>1.0</td>\n",
       "      <td>Verifone Inc</td>\n",
       "      <td>Standard rate</td>\n",
       "      <td>Cash</td>\n",
       "      <td>Street-hail</td>\n",
       "    </tr>\n",
       "    <tr>\n",
       "      <th>2</th>\n",
       "      <td>2</td>\n",
       "      <td>9/1/2016 0:06</td>\n",
       "      <td>9/1/2016 0:15</td>\n",
       "      <td>N</td>\n",
       "      <td>1</td>\n",
       "      <td>93</td>\n",
       "      <td>223</td>\n",
       "      <td>1</td>\n",
       "      <td>4.84</td>\n",
       "      <td>15.0</td>\n",
       "      <td>...</td>\n",
       "      <td>0.0</td>\n",
       "      <td>NaN</td>\n",
       "      <td>0.3</td>\n",
       "      <td>16.30</td>\n",
       "      <td>2</td>\n",
       "      <td>1.0</td>\n",
       "      <td>Verifone Inc</td>\n",
       "      <td>Standard rate</td>\n",
       "      <td>Cash</td>\n",
       "      <td>Street-hail</td>\n",
       "    </tr>\n",
       "    <tr>\n",
       "      <th>3</th>\n",
       "      <td>2</td>\n",
       "      <td>9/1/2016 0:28</td>\n",
       "      <td>9/1/2016 1:07</td>\n",
       "      <td>N</td>\n",
       "      <td>4</td>\n",
       "      <td>93</td>\n",
       "      <td>265</td>\n",
       "      <td>1</td>\n",
       "      <td>28.26</td>\n",
       "      <td>119.0</td>\n",
       "      <td>...</td>\n",
       "      <td>0.0</td>\n",
       "      <td>NaN</td>\n",
       "      <td>0.3</td>\n",
       "      <td>150.38</td>\n",
       "      <td>1</td>\n",
       "      <td>1.0</td>\n",
       "      <td>Verifone Inc</td>\n",
       "      <td>Nassau or Westchester</td>\n",
       "      <td>Credit card</td>\n",
       "      <td>Street-hail</td>\n",
       "    </tr>\n",
       "    <tr>\n",
       "      <th>4</th>\n",
       "      <td>2</td>\n",
       "      <td>9/1/2016 0:17</td>\n",
       "      <td>9/1/2016 0:27</td>\n",
       "      <td>N</td>\n",
       "      <td>1</td>\n",
       "      <td>130</td>\n",
       "      <td>63</td>\n",
       "      <td>1</td>\n",
       "      <td>3.50</td>\n",
       "      <td>12.0</td>\n",
       "      <td>...</td>\n",
       "      <td>0.0</td>\n",
       "      <td>NaN</td>\n",
       "      <td>0.3</td>\n",
       "      <td>15.96</td>\n",
       "      <td>1</td>\n",
       "      <td>1.0</td>\n",
       "      <td>Verifone Inc</td>\n",
       "      <td>Standard rate</td>\n",
       "      <td>Credit card</td>\n",
       "      <td>Street-hail</td>\n",
       "    </tr>\n",
       "  </tbody>\n",
       "</table>\n",
       "<p>5 rows × 23 columns</p>\n",
       "</div>"
      ],
      "text/plain": [
       "   VendorID lpep_pickup_datetime lpep_dropoff_datetime store_and_fwd_flag  \\\n",
       "0         2        9/1/2016 0:58         9/1/2016 1:11                  N   \n",
       "1         2        9/1/2016 0:49         9/1/2016 1:05                  N   \n",
       "2         2        9/1/2016 0:06         9/1/2016 0:15                  N   \n",
       "3         2        9/1/2016 0:28         9/1/2016 1:07                  N   \n",
       "4         2        9/1/2016 0:17         9/1/2016 0:27                  N   \n",
       "\n",
       "   RatecodeID  PULocationID  DOLocationID  passenger_count  trip_distance  \\\n",
       "0           1            92            82                1           3.34   \n",
       "1           1            83            92                2           3.78   \n",
       "2           1            93           223                1           4.84   \n",
       "3           4            93           265                1          28.26   \n",
       "4           1           130            63                1           3.50   \n",
       "\n",
       "   fare_amount  ...  tolls_amount  ehail_fee  improvement_surcharge  \\\n",
       "0         12.5  ...           0.0        NaN                    0.3   \n",
       "1         14.5  ...           0.0        NaN                    0.3   \n",
       "2         15.0  ...           0.0        NaN                    0.3   \n",
       "3        119.0  ...           0.0        NaN                    0.3   \n",
       "4         12.0  ...           0.0        NaN                    0.3   \n",
       "\n",
       "   total_amount  payment_type  trip_type   Vendor_Name              Rate_Code  \\\n",
       "0         14.80             1        1.0  Verifone Inc          Standard rate   \n",
       "1         15.80             2        1.0  Verifone Inc          Standard rate   \n",
       "2         16.30             2        1.0  Verifone Inc          Standard rate   \n",
       "3        150.38             1        1.0  Verifone Inc  Nassau or Westchester   \n",
       "4         15.96             1        1.0  Verifone Inc          Standard rate   \n",
       "\n",
       "   Payment_Type_Desc Trip_Type_Desc  \n",
       "0        Credit card    Street-hail  \n",
       "1               Cash    Street-hail  \n",
       "2               Cash    Street-hail  \n",
       "3        Credit card    Street-hail  \n",
       "4        Credit card    Street-hail  \n",
       "\n",
       "[5 rows x 23 columns]"
      ]
     },
     "execution_count": 318,
     "metadata": {},
     "output_type": "execute_result"
    },
    {
     "data": {
      "application/javascript": [
       "\n",
       "            setTimeout(function() {\n",
       "                var nbb_cell_id = 318;\n",
       "                var nbb_unformatted_code = \"# Mapping VendorID, RatecodeID, Payment-type,trip_type to their descriptive values from Data Dictionary\\nvendormap = {1: \\\"Creative Mobile Technologies\\\", 2: \\\"Verifone Inc\\\"}\\nratecodemap = {\\n    1: \\\"Standard rate\\\",\\n    2: \\\"JFK\\\",\\n    3: \\\"Newark\\\",\\n    4: \\\"Nassau or Westchester\\\",\\n    5: \\\"Negotiated fare\\\",\\n    6: \\\"Group Ride\\\",\\n}\\npaymenttypemap = {\\n    1: \\\"Credit card\\\",\\n    2: \\\"Cash\\\",\\n    3: \\\"No charge\\\",\\n    4: \\\"Dispute\\\",\\n    5: \\\"Unknown\\\",\\n    6: \\\"Voided trip\\\",\\n}\\ntriptypemap = {1: \\\"Street-hail\\\", 2: \\\"Dispatch\\\"}\\n\\n# Adding new columns; Vendor_Name, Rate_Code, Payment_Type_Desc, Trip_Type_Desc\\ndata[\\\"Vendor_Name\\\"] = data[\\\"VendorID\\\"].map(vendormap)\\ndata[\\\"Rate_Code\\\"] = data[\\\"RatecodeID\\\"].map(ratecodemap)\\ndata[\\\"Payment_Type_Desc\\\"] = data[\\\"payment_type\\\"].map(paymenttypemap)\\ndata[\\\"Trip_Type_Desc\\\"] = data[\\\"trip_type\\\"].map(triptypemap)\\n\\n# Viewing data to see the newly added columns\\ndata.head()\";\n",
       "                var nbb_formatted_code = \"# Mapping VendorID, RatecodeID, Payment-type,trip_type to their descriptive values from Data Dictionary\\nvendormap = {1: \\\"Creative Mobile Technologies\\\", 2: \\\"Verifone Inc\\\"}\\nratecodemap = {\\n    1: \\\"Standard rate\\\",\\n    2: \\\"JFK\\\",\\n    3: \\\"Newark\\\",\\n    4: \\\"Nassau or Westchester\\\",\\n    5: \\\"Negotiated fare\\\",\\n    6: \\\"Group Ride\\\",\\n}\\npaymenttypemap = {\\n    1: \\\"Credit card\\\",\\n    2: \\\"Cash\\\",\\n    3: \\\"No charge\\\",\\n    4: \\\"Dispute\\\",\\n    5: \\\"Unknown\\\",\\n    6: \\\"Voided trip\\\",\\n}\\ntriptypemap = {1: \\\"Street-hail\\\", 2: \\\"Dispatch\\\"}\\n\\n# Adding new columns; Vendor_Name, Rate_Code, Payment_Type_Desc, Trip_Type_Desc\\ndata[\\\"Vendor_Name\\\"] = data[\\\"VendorID\\\"].map(vendormap)\\ndata[\\\"Rate_Code\\\"] = data[\\\"RatecodeID\\\"].map(ratecodemap)\\ndata[\\\"Payment_Type_Desc\\\"] = data[\\\"payment_type\\\"].map(paymenttypemap)\\ndata[\\\"Trip_Type_Desc\\\"] = data[\\\"trip_type\\\"].map(triptypemap)\\n\\n# Viewing data to see the newly added columns\\ndata.head()\";\n",
       "                var nbb_cells = Jupyter.notebook.get_cells();\n",
       "                for (var i = 0; i < nbb_cells.length; ++i) {\n",
       "                    if (nbb_cells[i].input_prompt_number == nbb_cell_id) {\n",
       "                        if (nbb_cells[i].get_text() == nbb_unformatted_code) {\n",
       "                             nbb_cells[i].set_text(nbb_formatted_code);\n",
       "                        }\n",
       "                        break;\n",
       "                    }\n",
       "                }\n",
       "            }, 500);\n",
       "            "
      ],
      "text/plain": [
       "<IPython.core.display.Javascript object>"
      ]
     },
     "metadata": {},
     "output_type": "display_data"
    }
   ],
   "source": [
    "# Mapping VendorID, RatecodeID, Payment-type,trip_type to their descriptive values from Data Dictionary\n",
    "vendormap = {1: \"Creative Mobile Technologies\", 2: \"Verifone Inc\"}\n",
    "ratecodemap = {\n",
    "    1: \"Standard rate\",\n",
    "    2: \"JFK\",\n",
    "    3: \"Newark\",\n",
    "    4: \"Nassau or Westchester\",\n",
    "    5: \"Negotiated fare\",\n",
    "    6: \"Group Ride\",\n",
    "}\n",
    "paymenttypemap = {\n",
    "    1: \"Credit card\",\n",
    "    2: \"Cash\",\n",
    "    3: \"No charge\",\n",
    "    4: \"Dispute\",\n",
    "    5: \"Unknown\",\n",
    "    6: \"Voided trip\",\n",
    "}\n",
    "triptypemap = {1: \"Street-hail\", 2: \"Dispatch\"}\n",
    "\n",
    "# Adding new columns; Vendor_Name, Rate_Code, Payment_Type_Desc, Trip_Type_Desc\n",
    "data[\"Vendor_Name\"] = data[\"VendorID\"].map(vendormap)\n",
    "data[\"Rate_Code\"] = data[\"RatecodeID\"].map(ratecodemap)\n",
    "data[\"Payment_Type_Desc\"] = data[\"payment_type\"].map(paymenttypemap)\n",
    "data[\"Trip_Type_Desc\"] = data[\"trip_type\"].map(triptypemap)\n",
    "\n",
    "# Viewing data to see the newly added columns\n",
    "data.head()"
   ]
  },
  {
   "cell_type": "markdown",
   "id": "efad0aa1",
   "metadata": {},
   "source": [
    "### Splitting the datetime component to Year, Month, Date and Hour for further Analysis"
   ]
  },
  {
   "cell_type": "code",
   "execution_count": 319,
   "id": "aeefef0e",
   "metadata": {},
   "outputs": [
    {
     "data": {
      "text/html": [
       "<div>\n",
       "<style scoped>\n",
       "    .dataframe tbody tr th:only-of-type {\n",
       "        vertical-align: middle;\n",
       "    }\n",
       "\n",
       "    .dataframe tbody tr th {\n",
       "        vertical-align: top;\n",
       "    }\n",
       "\n",
       "    .dataframe thead th {\n",
       "        text-align: right;\n",
       "    }\n",
       "</style>\n",
       "<table border=\"1\" class=\"dataframe\">\n",
       "  <thead>\n",
       "    <tr style=\"text-align: right;\">\n",
       "      <th></th>\n",
       "      <th>VendorID</th>\n",
       "      <th>lpep_pickup_datetime</th>\n",
       "      <th>lpep_dropoff_datetime</th>\n",
       "      <th>store_and_fwd_flag</th>\n",
       "      <th>RatecodeID</th>\n",
       "      <th>PULocationID</th>\n",
       "      <th>DOLocationID</th>\n",
       "      <th>passenger_count</th>\n",
       "      <th>trip_distance</th>\n",
       "      <th>fare_amount</th>\n",
       "      <th>...</th>\n",
       "      <th>payment_type</th>\n",
       "      <th>trip_type</th>\n",
       "      <th>Vendor_Name</th>\n",
       "      <th>Rate_Code</th>\n",
       "      <th>Payment_Type_Desc</th>\n",
       "      <th>Trip_Type_Desc</th>\n",
       "      <th>pu_year</th>\n",
       "      <th>pu_month</th>\n",
       "      <th>pu_date</th>\n",
       "      <th>pu_hour</th>\n",
       "    </tr>\n",
       "  </thead>\n",
       "  <tbody>\n",
       "    <tr>\n",
       "      <th>0</th>\n",
       "      <td>2</td>\n",
       "      <td>9/1/2016 0:58</td>\n",
       "      <td>9/1/2016 1:11</td>\n",
       "      <td>N</td>\n",
       "      <td>1</td>\n",
       "      <td>92</td>\n",
       "      <td>82</td>\n",
       "      <td>1</td>\n",
       "      <td>3.34</td>\n",
       "      <td>12.5</td>\n",
       "      <td>...</td>\n",
       "      <td>1</td>\n",
       "      <td>1.0</td>\n",
       "      <td>Verifone Inc</td>\n",
       "      <td>Standard rate</td>\n",
       "      <td>Credit card</td>\n",
       "      <td>Street-hail</td>\n",
       "      <td>2016</td>\n",
       "      <td>9</td>\n",
       "      <td>1</td>\n",
       "      <td>0</td>\n",
       "    </tr>\n",
       "    <tr>\n",
       "      <th>1</th>\n",
       "      <td>2</td>\n",
       "      <td>9/1/2016 0:49</td>\n",
       "      <td>9/1/2016 1:05</td>\n",
       "      <td>N</td>\n",
       "      <td>1</td>\n",
       "      <td>83</td>\n",
       "      <td>92</td>\n",
       "      <td>2</td>\n",
       "      <td>3.78</td>\n",
       "      <td>14.5</td>\n",
       "      <td>...</td>\n",
       "      <td>2</td>\n",
       "      <td>1.0</td>\n",
       "      <td>Verifone Inc</td>\n",
       "      <td>Standard rate</td>\n",
       "      <td>Cash</td>\n",
       "      <td>Street-hail</td>\n",
       "      <td>2016</td>\n",
       "      <td>9</td>\n",
       "      <td>1</td>\n",
       "      <td>0</td>\n",
       "    </tr>\n",
       "    <tr>\n",
       "      <th>2</th>\n",
       "      <td>2</td>\n",
       "      <td>9/1/2016 0:06</td>\n",
       "      <td>9/1/2016 0:15</td>\n",
       "      <td>N</td>\n",
       "      <td>1</td>\n",
       "      <td>93</td>\n",
       "      <td>223</td>\n",
       "      <td>1</td>\n",
       "      <td>4.84</td>\n",
       "      <td>15.0</td>\n",
       "      <td>...</td>\n",
       "      <td>2</td>\n",
       "      <td>1.0</td>\n",
       "      <td>Verifone Inc</td>\n",
       "      <td>Standard rate</td>\n",
       "      <td>Cash</td>\n",
       "      <td>Street-hail</td>\n",
       "      <td>2016</td>\n",
       "      <td>9</td>\n",
       "      <td>1</td>\n",
       "      <td>0</td>\n",
       "    </tr>\n",
       "    <tr>\n",
       "      <th>3</th>\n",
       "      <td>2</td>\n",
       "      <td>9/1/2016 0:28</td>\n",
       "      <td>9/1/2016 1:07</td>\n",
       "      <td>N</td>\n",
       "      <td>4</td>\n",
       "      <td>93</td>\n",
       "      <td>265</td>\n",
       "      <td>1</td>\n",
       "      <td>28.26</td>\n",
       "      <td>119.0</td>\n",
       "      <td>...</td>\n",
       "      <td>1</td>\n",
       "      <td>1.0</td>\n",
       "      <td>Verifone Inc</td>\n",
       "      <td>Nassau or Westchester</td>\n",
       "      <td>Credit card</td>\n",
       "      <td>Street-hail</td>\n",
       "      <td>2016</td>\n",
       "      <td>9</td>\n",
       "      <td>1</td>\n",
       "      <td>0</td>\n",
       "    </tr>\n",
       "    <tr>\n",
       "      <th>4</th>\n",
       "      <td>2</td>\n",
       "      <td>9/1/2016 0:17</td>\n",
       "      <td>9/1/2016 0:27</td>\n",
       "      <td>N</td>\n",
       "      <td>1</td>\n",
       "      <td>130</td>\n",
       "      <td>63</td>\n",
       "      <td>1</td>\n",
       "      <td>3.50</td>\n",
       "      <td>12.0</td>\n",
       "      <td>...</td>\n",
       "      <td>1</td>\n",
       "      <td>1.0</td>\n",
       "      <td>Verifone Inc</td>\n",
       "      <td>Standard rate</td>\n",
       "      <td>Credit card</td>\n",
       "      <td>Street-hail</td>\n",
       "      <td>2016</td>\n",
       "      <td>9</td>\n",
       "      <td>1</td>\n",
       "      <td>0</td>\n",
       "    </tr>\n",
       "  </tbody>\n",
       "</table>\n",
       "<p>5 rows × 27 columns</p>\n",
       "</div>"
      ],
      "text/plain": [
       "   VendorID lpep_pickup_datetime lpep_dropoff_datetime store_and_fwd_flag  \\\n",
       "0         2        9/1/2016 0:58         9/1/2016 1:11                  N   \n",
       "1         2        9/1/2016 0:49         9/1/2016 1:05                  N   \n",
       "2         2        9/1/2016 0:06         9/1/2016 0:15                  N   \n",
       "3         2        9/1/2016 0:28         9/1/2016 1:07                  N   \n",
       "4         2        9/1/2016 0:17         9/1/2016 0:27                  N   \n",
       "\n",
       "   RatecodeID  PULocationID  DOLocationID  passenger_count  trip_distance  \\\n",
       "0           1            92            82                1           3.34   \n",
       "1           1            83            92                2           3.78   \n",
       "2           1            93           223                1           4.84   \n",
       "3           4            93           265                1          28.26   \n",
       "4           1           130            63                1           3.50   \n",
       "\n",
       "   fare_amount  ...  payment_type  trip_type   Vendor_Name  \\\n",
       "0         12.5  ...             1        1.0  Verifone Inc   \n",
       "1         14.5  ...             2        1.0  Verifone Inc   \n",
       "2         15.0  ...             2        1.0  Verifone Inc   \n",
       "3        119.0  ...             1        1.0  Verifone Inc   \n",
       "4         12.0  ...             1        1.0  Verifone Inc   \n",
       "\n",
       "               Rate_Code  Payment_Type_Desc  Trip_Type_Desc  pu_year  \\\n",
       "0          Standard rate        Credit card     Street-hail     2016   \n",
       "1          Standard rate               Cash     Street-hail     2016   \n",
       "2          Standard rate               Cash     Street-hail     2016   \n",
       "3  Nassau or Westchester        Credit card     Street-hail     2016   \n",
       "4          Standard rate        Credit card     Street-hail     2016   \n",
       "\n",
       "   pu_month  pu_date pu_hour  \n",
       "0         9        1       0  \n",
       "1         9        1       0  \n",
       "2         9        1       0  \n",
       "3         9        1       0  \n",
       "4         9        1       0  \n",
       "\n",
       "[5 rows x 27 columns]"
      ]
     },
     "execution_count": 319,
     "metadata": {},
     "output_type": "execute_result"
    },
    {
     "data": {
      "application/javascript": [
       "\n",
       "            setTimeout(function() {\n",
       "                var nbb_cell_id = 319;\n",
       "                var nbb_unformatted_code = \"# Adding new columns PICKUP (PU) year, month, date and hour\\npu_year = []\\npu_month = []\\npu_date = []\\npu_hour = []\\nfor x in data[\\\"lpep_pickup_datetime\\\"]:\\n    pu_month.append(\\n        int(x.split(\\\"/\\\")[0])\\n    )  # extraction of year from date column and appending into list\\n    pu_date.append(\\n        int(x.split(\\\"/\\\")[1])\\n    )  # extraction of month from date column and appending into list\\n    pu_year.append(\\n        int(x.split(\\\"/\\\")[2].split(\\\" \\\")[0])\\n    )  # extraction of date of the month from date column and appending into list\\n    pu_hour.append(\\n        int(x.split(\\\"/\\\")[2].split(\\\" \\\")[1].split(\\\":\\\")[0])\\n    )  # extraction of hour of that day from date column and appending into list\\n\\ndata[\\\"pu_year\\\"] = pu_year\\ndata[\\\"pu_month\\\"] = pu_month\\ndata[\\\"pu_date\\\"] = pu_date\\ndata[\\\"pu_hour\\\"] = pu_hour\\ndata.head()\";\n",
       "                var nbb_formatted_code = \"# Adding new columns PICKUP (PU) year, month, date and hour\\npu_year = []\\npu_month = []\\npu_date = []\\npu_hour = []\\nfor x in data[\\\"lpep_pickup_datetime\\\"]:\\n    pu_month.append(\\n        int(x.split(\\\"/\\\")[0])\\n    )  # extraction of year from date column and appending into list\\n    pu_date.append(\\n        int(x.split(\\\"/\\\")[1])\\n    )  # extraction of month from date column and appending into list\\n    pu_year.append(\\n        int(x.split(\\\"/\\\")[2].split(\\\" \\\")[0])\\n    )  # extraction of date of the month from date column and appending into list\\n    pu_hour.append(\\n        int(x.split(\\\"/\\\")[2].split(\\\" \\\")[1].split(\\\":\\\")[0])\\n    )  # extraction of hour of that day from date column and appending into list\\n\\ndata[\\\"pu_year\\\"] = pu_year\\ndata[\\\"pu_month\\\"] = pu_month\\ndata[\\\"pu_date\\\"] = pu_date\\ndata[\\\"pu_hour\\\"] = pu_hour\\ndata.head()\";\n",
       "                var nbb_cells = Jupyter.notebook.get_cells();\n",
       "                for (var i = 0; i < nbb_cells.length; ++i) {\n",
       "                    if (nbb_cells[i].input_prompt_number == nbb_cell_id) {\n",
       "                        if (nbb_cells[i].get_text() == nbb_unformatted_code) {\n",
       "                             nbb_cells[i].set_text(nbb_formatted_code);\n",
       "                        }\n",
       "                        break;\n",
       "                    }\n",
       "                }\n",
       "            }, 500);\n",
       "            "
      ],
      "text/plain": [
       "<IPython.core.display.Javascript object>"
      ]
     },
     "metadata": {},
     "output_type": "display_data"
    }
   ],
   "source": [
    "# Adding new columns PICKUP (PU) year, month, date and hour\n",
    "pu_year = []\n",
    "pu_month = []\n",
    "pu_date = []\n",
    "pu_hour = []\n",
    "for x in data[\"lpep_pickup_datetime\"]:\n",
    "    pu_month.append(\n",
    "        int(x.split(\"/\")[0])\n",
    "    )  # extraction of year from date column and appending into list\n",
    "    pu_date.append(\n",
    "        int(x.split(\"/\")[1])\n",
    "    )  # extraction of month from date column and appending into list\n",
    "    pu_year.append(\n",
    "        int(x.split(\"/\")[2].split(\" \")[0])\n",
    "    )  # extraction of date of the month from date column and appending into list\n",
    "    pu_hour.append(\n",
    "        int(x.split(\"/\")[2].split(\" \")[1].split(\":\")[0])\n",
    "    )  # extraction of hour of that day from date column and appending into list\n",
    "\n",
    "data[\"pu_year\"] = pu_year\n",
    "data[\"pu_month\"] = pu_month\n",
    "data[\"pu_date\"] = pu_date\n",
    "data[\"pu_hour\"] = pu_hour\n",
    "data.head()"
   ]
  },
  {
   "cell_type": "code",
   "execution_count": 320,
   "id": "53cf07d0",
   "metadata": {},
   "outputs": [
    {
     "data": {
      "text/html": [
       "<div>\n",
       "<style scoped>\n",
       "    .dataframe tbody tr th:only-of-type {\n",
       "        vertical-align: middle;\n",
       "    }\n",
       "\n",
       "    .dataframe tbody tr th {\n",
       "        vertical-align: top;\n",
       "    }\n",
       "\n",
       "    .dataframe thead th {\n",
       "        text-align: right;\n",
       "    }\n",
       "</style>\n",
       "<table border=\"1\" class=\"dataframe\">\n",
       "  <thead>\n",
       "    <tr style=\"text-align: right;\">\n",
       "      <th></th>\n",
       "      <th>VendorID</th>\n",
       "      <th>lpep_pickup_datetime</th>\n",
       "      <th>lpep_dropoff_datetime</th>\n",
       "      <th>store_and_fwd_flag</th>\n",
       "      <th>RatecodeID</th>\n",
       "      <th>PULocationID</th>\n",
       "      <th>DOLocationID</th>\n",
       "      <th>passenger_count</th>\n",
       "      <th>trip_distance</th>\n",
       "      <th>fare_amount</th>\n",
       "      <th>...</th>\n",
       "      <th>Payment_Type_Desc</th>\n",
       "      <th>Trip_Type_Desc</th>\n",
       "      <th>pu_year</th>\n",
       "      <th>pu_month</th>\n",
       "      <th>pu_date</th>\n",
       "      <th>pu_hour</th>\n",
       "      <th>do_year</th>\n",
       "      <th>do_month</th>\n",
       "      <th>do_date</th>\n",
       "      <th>do_hour</th>\n",
       "    </tr>\n",
       "  </thead>\n",
       "  <tbody>\n",
       "    <tr>\n",
       "      <th>0</th>\n",
       "      <td>2</td>\n",
       "      <td>9/1/2016 0:58</td>\n",
       "      <td>9/1/2016 1:11</td>\n",
       "      <td>N</td>\n",
       "      <td>1</td>\n",
       "      <td>92</td>\n",
       "      <td>82</td>\n",
       "      <td>1</td>\n",
       "      <td>3.34</td>\n",
       "      <td>12.5</td>\n",
       "      <td>...</td>\n",
       "      <td>Credit card</td>\n",
       "      <td>Street-hail</td>\n",
       "      <td>2016</td>\n",
       "      <td>9</td>\n",
       "      <td>1</td>\n",
       "      <td>0</td>\n",
       "      <td>2016</td>\n",
       "      <td>9</td>\n",
       "      <td>1</td>\n",
       "      <td>1</td>\n",
       "    </tr>\n",
       "    <tr>\n",
       "      <th>1</th>\n",
       "      <td>2</td>\n",
       "      <td>9/1/2016 0:49</td>\n",
       "      <td>9/1/2016 1:05</td>\n",
       "      <td>N</td>\n",
       "      <td>1</td>\n",
       "      <td>83</td>\n",
       "      <td>92</td>\n",
       "      <td>2</td>\n",
       "      <td>3.78</td>\n",
       "      <td>14.5</td>\n",
       "      <td>...</td>\n",
       "      <td>Cash</td>\n",
       "      <td>Street-hail</td>\n",
       "      <td>2016</td>\n",
       "      <td>9</td>\n",
       "      <td>1</td>\n",
       "      <td>0</td>\n",
       "      <td>2016</td>\n",
       "      <td>9</td>\n",
       "      <td>1</td>\n",
       "      <td>1</td>\n",
       "    </tr>\n",
       "    <tr>\n",
       "      <th>2</th>\n",
       "      <td>2</td>\n",
       "      <td>9/1/2016 0:06</td>\n",
       "      <td>9/1/2016 0:15</td>\n",
       "      <td>N</td>\n",
       "      <td>1</td>\n",
       "      <td>93</td>\n",
       "      <td>223</td>\n",
       "      <td>1</td>\n",
       "      <td>4.84</td>\n",
       "      <td>15.0</td>\n",
       "      <td>...</td>\n",
       "      <td>Cash</td>\n",
       "      <td>Street-hail</td>\n",
       "      <td>2016</td>\n",
       "      <td>9</td>\n",
       "      <td>1</td>\n",
       "      <td>0</td>\n",
       "      <td>2016</td>\n",
       "      <td>9</td>\n",
       "      <td>1</td>\n",
       "      <td>0</td>\n",
       "    </tr>\n",
       "    <tr>\n",
       "      <th>3</th>\n",
       "      <td>2</td>\n",
       "      <td>9/1/2016 0:28</td>\n",
       "      <td>9/1/2016 1:07</td>\n",
       "      <td>N</td>\n",
       "      <td>4</td>\n",
       "      <td>93</td>\n",
       "      <td>265</td>\n",
       "      <td>1</td>\n",
       "      <td>28.26</td>\n",
       "      <td>119.0</td>\n",
       "      <td>...</td>\n",
       "      <td>Credit card</td>\n",
       "      <td>Street-hail</td>\n",
       "      <td>2016</td>\n",
       "      <td>9</td>\n",
       "      <td>1</td>\n",
       "      <td>0</td>\n",
       "      <td>2016</td>\n",
       "      <td>9</td>\n",
       "      <td>1</td>\n",
       "      <td>1</td>\n",
       "    </tr>\n",
       "    <tr>\n",
       "      <th>4</th>\n",
       "      <td>2</td>\n",
       "      <td>9/1/2016 0:17</td>\n",
       "      <td>9/1/2016 0:27</td>\n",
       "      <td>N</td>\n",
       "      <td>1</td>\n",
       "      <td>130</td>\n",
       "      <td>63</td>\n",
       "      <td>1</td>\n",
       "      <td>3.50</td>\n",
       "      <td>12.0</td>\n",
       "      <td>...</td>\n",
       "      <td>Credit card</td>\n",
       "      <td>Street-hail</td>\n",
       "      <td>2016</td>\n",
       "      <td>9</td>\n",
       "      <td>1</td>\n",
       "      <td>0</td>\n",
       "      <td>2016</td>\n",
       "      <td>9</td>\n",
       "      <td>1</td>\n",
       "      <td>0</td>\n",
       "    </tr>\n",
       "  </tbody>\n",
       "</table>\n",
       "<p>5 rows × 31 columns</p>\n",
       "</div>"
      ],
      "text/plain": [
       "   VendorID lpep_pickup_datetime lpep_dropoff_datetime store_and_fwd_flag  \\\n",
       "0         2        9/1/2016 0:58         9/1/2016 1:11                  N   \n",
       "1         2        9/1/2016 0:49         9/1/2016 1:05                  N   \n",
       "2         2        9/1/2016 0:06         9/1/2016 0:15                  N   \n",
       "3         2        9/1/2016 0:28         9/1/2016 1:07                  N   \n",
       "4         2        9/1/2016 0:17         9/1/2016 0:27                  N   \n",
       "\n",
       "   RatecodeID  PULocationID  DOLocationID  passenger_count  trip_distance  \\\n",
       "0           1            92            82                1           3.34   \n",
       "1           1            83            92                2           3.78   \n",
       "2           1            93           223                1           4.84   \n",
       "3           4            93           265                1          28.26   \n",
       "4           1           130            63                1           3.50   \n",
       "\n",
       "   fare_amount  ...  Payment_Type_Desc  Trip_Type_Desc  pu_year  pu_month  \\\n",
       "0         12.5  ...        Credit card     Street-hail     2016         9   \n",
       "1         14.5  ...               Cash     Street-hail     2016         9   \n",
       "2         15.0  ...               Cash     Street-hail     2016         9   \n",
       "3        119.0  ...        Credit card     Street-hail     2016         9   \n",
       "4         12.0  ...        Credit card     Street-hail     2016         9   \n",
       "\n",
       "   pu_date  pu_hour  do_year  do_month  do_date do_hour  \n",
       "0        1        0     2016         9        1       1  \n",
       "1        1        0     2016         9        1       1  \n",
       "2        1        0     2016         9        1       0  \n",
       "3        1        0     2016         9        1       1  \n",
       "4        1        0     2016         9        1       0  \n",
       "\n",
       "[5 rows x 31 columns]"
      ]
     },
     "execution_count": 320,
     "metadata": {},
     "output_type": "execute_result"
    },
    {
     "data": {
      "application/javascript": [
       "\n",
       "            setTimeout(function() {\n",
       "                var nbb_cell_id = 320;\n",
       "                var nbb_unformatted_code = \"# Adding new columns DROPOFF (DO) year, month, date and hour\\ndo_year = []\\ndo_month = []\\ndo_date = []\\ndo_hour = []\\nfor x in data[\\\"lpep_dropoff_datetime\\\"]:\\n    do_month.append(\\n        int(x.split(\\\"/\\\")[0])\\n    )  # extraction of year from date column and appending into list\\n    do_date.append(\\n        int(x.split(\\\"/\\\")[1])\\n    )  # extraction of month from date column and appending into list\\n    do_year.append(\\n        int(x.split(\\\"/\\\")[2].split(\\\" \\\")[0])\\n    )  # extraction of date of the month from date column and appending into list\\n    do_hour.append(\\n        int(x.split(\\\"/\\\")[2].split(\\\" \\\")[1].split(\\\":\\\")[0])\\n    )  # extraction of hour of that day from date column and appending into list\\n\\ndata[\\\"do_year\\\"] = do_year\\ndata[\\\"do_month\\\"] = do_month\\ndata[\\\"do_date\\\"] = do_date\\ndata[\\\"do_hour\\\"] = do_hour\\ndata.head()\";\n",
       "                var nbb_formatted_code = \"# Adding new columns DROPOFF (DO) year, month, date and hour\\ndo_year = []\\ndo_month = []\\ndo_date = []\\ndo_hour = []\\nfor x in data[\\\"lpep_dropoff_datetime\\\"]:\\n    do_month.append(\\n        int(x.split(\\\"/\\\")[0])\\n    )  # extraction of year from date column and appending into list\\n    do_date.append(\\n        int(x.split(\\\"/\\\")[1])\\n    )  # extraction of month from date column and appending into list\\n    do_year.append(\\n        int(x.split(\\\"/\\\")[2].split(\\\" \\\")[0])\\n    )  # extraction of date of the month from date column and appending into list\\n    do_hour.append(\\n        int(x.split(\\\"/\\\")[2].split(\\\" \\\")[1].split(\\\":\\\")[0])\\n    )  # extraction of hour of that day from date column and appending into list\\n\\ndata[\\\"do_year\\\"] = do_year\\ndata[\\\"do_month\\\"] = do_month\\ndata[\\\"do_date\\\"] = do_date\\ndata[\\\"do_hour\\\"] = do_hour\\ndata.head()\";\n",
       "                var nbb_cells = Jupyter.notebook.get_cells();\n",
       "                for (var i = 0; i < nbb_cells.length; ++i) {\n",
       "                    if (nbb_cells[i].input_prompt_number == nbb_cell_id) {\n",
       "                        if (nbb_cells[i].get_text() == nbb_unformatted_code) {\n",
       "                             nbb_cells[i].set_text(nbb_formatted_code);\n",
       "                        }\n",
       "                        break;\n",
       "                    }\n",
       "                }\n",
       "            }, 500);\n",
       "            "
      ],
      "text/plain": [
       "<IPython.core.display.Javascript object>"
      ]
     },
     "metadata": {},
     "output_type": "display_data"
    }
   ],
   "source": [
    "# Adding new columns DROPOFF (DO) year, month, date and hour\n",
    "do_year = []\n",
    "do_month = []\n",
    "do_date = []\n",
    "do_hour = []\n",
    "for x in data[\"lpep_dropoff_datetime\"]:\n",
    "    do_month.append(\n",
    "        int(x.split(\"/\")[0])\n",
    "    )  # extraction of year from date column and appending into list\n",
    "    do_date.append(\n",
    "        int(x.split(\"/\")[1])\n",
    "    )  # extraction of month from date column and appending into list\n",
    "    do_year.append(\n",
    "        int(x.split(\"/\")[2].split(\" \")[0])\n",
    "    )  # extraction of date of the month from date column and appending into list\n",
    "    do_hour.append(\n",
    "        int(x.split(\"/\")[2].split(\" \")[1].split(\":\")[0])\n",
    "    )  # extraction of hour of that day from date column and appending into list\n",
    "\n",
    "data[\"do_year\"] = do_year\n",
    "data[\"do_month\"] = do_month\n",
    "data[\"do_date\"] = do_date\n",
    "data[\"do_hour\"] = do_hour\n",
    "data.head()"
   ]
  },
  {
   "cell_type": "markdown",
   "id": "2c7bf415",
   "metadata": {},
   "source": [
    "## 2. Exploratory Data Analysis (EDA)"
   ]
  },
  {
   "cell_type": "code",
   "execution_count": 321,
   "id": "e259039e",
   "metadata": {},
   "outputs": [
    {
     "data": {
      "application/javascript": [
       "\n",
       "            setTimeout(function() {\n",
       "                var nbb_cell_id = 321;\n",
       "                var nbb_unformatted_code = \"# Function to create barplots that indicate percentage for each category.\\n\\n\\ndef perc_on_bar(plot, feature):\\n    \\\"\\\"\\\"\\n    plot\\n    feature: categorical feature\\n    the function won't work if a column is passed in hue parameter\\n    \\\"\\\"\\\"\\n    total = len(feature)  # length of the column\\n    for p in ax.patches:\\n        percentage = \\\"{:.1f}%\\\".format(\\n            100 * p.get_height() / total\\n        )  # percentage of each class of the category\\n        x = p.get_x() + p.get_width() / 2 - 0.05  # width of the plot\\n        y = p.get_y() + p.get_height()  # hieght of the plot\\n        ax.annotate(percentage, (x, y), size=12)  # annotate the percantage\\n    plt.show()  # show the plot\";\n",
       "                var nbb_formatted_code = \"# Function to create barplots that indicate percentage for each category.\\n\\n\\ndef perc_on_bar(plot, feature):\\n    \\\"\\\"\\\"\\n    plot\\n    feature: categorical feature\\n    the function won't work if a column is passed in hue parameter\\n    \\\"\\\"\\\"\\n    total = len(feature)  # length of the column\\n    for p in ax.patches:\\n        percentage = \\\"{:.1f}%\\\".format(\\n            100 * p.get_height() / total\\n        )  # percentage of each class of the category\\n        x = p.get_x() + p.get_width() / 2 - 0.05  # width of the plot\\n        y = p.get_y() + p.get_height()  # hieght of the plot\\n        ax.annotate(percentage, (x, y), size=12)  # annotate the percantage\\n    plt.show()  # show the plot\";\n",
       "                var nbb_cells = Jupyter.notebook.get_cells();\n",
       "                for (var i = 0; i < nbb_cells.length; ++i) {\n",
       "                    if (nbb_cells[i].input_prompt_number == nbb_cell_id) {\n",
       "                        if (nbb_cells[i].get_text() == nbb_unformatted_code) {\n",
       "                             nbb_cells[i].set_text(nbb_formatted_code);\n",
       "                        }\n",
       "                        break;\n",
       "                    }\n",
       "                }\n",
       "            }, 500);\n",
       "            "
      ],
      "text/plain": [
       "<IPython.core.display.Javascript object>"
      ]
     },
     "metadata": {},
     "output_type": "display_data"
    }
   ],
   "source": [
    "# Function to create barplots that indicate percentage for each category.\n",
    "\n",
    "\n",
    "def perc_on_bar(plot, feature):\n",
    "    \"\"\"\n",
    "    plot\n",
    "    feature: categorical feature\n",
    "    the function won't work if a column is passed in hue parameter\n",
    "    \"\"\"\n",
    "    total = len(feature)  # length of the column\n",
    "    for p in ax.patches:\n",
    "        percentage = \"{:.1f}%\".format(\n",
    "            100 * p.get_height() / total\n",
    "        )  # percentage of each class of the category\n",
    "        x = p.get_x() + p.get_width() / 2 - 0.05  # width of the plot\n",
    "        y = p.get_y() + p.get_height()  # hieght of the plot\n",
    "        ax.annotate(percentage, (x, y), size=12)  # annotate the percantage\n",
    "    plt.show()  # show the plot"
   ]
  },
  {
   "cell_type": "code",
   "execution_count": 322,
   "id": "9d11ad16",
   "metadata": {},
   "outputs": [
    {
     "data": {
      "application/javascript": [
       "\n",
       "            setTimeout(function() {\n",
       "                var nbb_cell_id = 322;\n",
       "                var nbb_unformatted_code = \"# function to plot a boxplot and a histogram along the same scale.\\n\\n\\ndef histogram_boxplot(data, feature, figsize=(12, 7), kde=False, bins=None):\\n    \\\"\\\"\\\"\\n    Boxplot and histogram combined\\n\\n    data: dataframe\\n    feature: dataframe column\\n    figsize: size of figure (default (12,7))\\n    kde: whether to the show density curve (default False)\\n    bins: number of bins for histogram (default None)\\n    \\\"\\\"\\\"\\n    f2, (ax_box2, ax_hist2) = plt.subplots(\\n        nrows=2,  # Number of rows of the subplot grid= 2\\n        sharex=True,  # x-axis will be shared among all subplots\\n        gridspec_kw={\\\"height_ratios\\\": (0.25, 0.75)},\\n        figsize=figsize,\\n    )  # creating the 2 subplots\\n    sns.boxplot(\\n        data=data, x=feature, ax=ax_box2, showmeans=True, color=\\\"violet\\\"\\n    )  # boxplot will be created and a star will indicate the mean value of the column\\n    sns.histplot(\\n        data=data, x=feature, kde=kde, ax=ax_hist2, bins=bins, palette=\\\"winter\\\"\\n    ) if bins else sns.histplot(\\n        data=data, x=feature, kde=kde, ax=ax_hist2\\n    )  # For histogram\\n    ax_hist2.axvline(\\n        data[feature].mean(), color=\\\"green\\\", linestyle=\\\"--\\\"\\n    )  # Add mean to the histogram\\n    ax_hist2.axvline(\\n        data[feature].median(), color=\\\"black\\\", linestyle=\\\"-\\\"\\n    )  # Add median to the histogram\";\n",
       "                var nbb_formatted_code = \"# function to plot a boxplot and a histogram along the same scale.\\n\\n\\ndef histogram_boxplot(data, feature, figsize=(12, 7), kde=False, bins=None):\\n    \\\"\\\"\\\"\\n    Boxplot and histogram combined\\n\\n    data: dataframe\\n    feature: dataframe column\\n    figsize: size of figure (default (12,7))\\n    kde: whether to the show density curve (default False)\\n    bins: number of bins for histogram (default None)\\n    \\\"\\\"\\\"\\n    f2, (ax_box2, ax_hist2) = plt.subplots(\\n        nrows=2,  # Number of rows of the subplot grid= 2\\n        sharex=True,  # x-axis will be shared among all subplots\\n        gridspec_kw={\\\"height_ratios\\\": (0.25, 0.75)},\\n        figsize=figsize,\\n    )  # creating the 2 subplots\\n    sns.boxplot(\\n        data=data, x=feature, ax=ax_box2, showmeans=True, color=\\\"violet\\\"\\n    )  # boxplot will be created and a star will indicate the mean value of the column\\n    sns.histplot(\\n        data=data, x=feature, kde=kde, ax=ax_hist2, bins=bins, palette=\\\"winter\\\"\\n    ) if bins else sns.histplot(\\n        data=data, x=feature, kde=kde, ax=ax_hist2\\n    )  # For histogram\\n    ax_hist2.axvline(\\n        data[feature].mean(), color=\\\"green\\\", linestyle=\\\"--\\\"\\n    )  # Add mean to the histogram\\n    ax_hist2.axvline(\\n        data[feature].median(), color=\\\"black\\\", linestyle=\\\"-\\\"\\n    )  # Add median to the histogram\";\n",
       "                var nbb_cells = Jupyter.notebook.get_cells();\n",
       "                for (var i = 0; i < nbb_cells.length; ++i) {\n",
       "                    if (nbb_cells[i].input_prompt_number == nbb_cell_id) {\n",
       "                        if (nbb_cells[i].get_text() == nbb_unformatted_code) {\n",
       "                             nbb_cells[i].set_text(nbb_formatted_code);\n",
       "                        }\n",
       "                        break;\n",
       "                    }\n",
       "                }\n",
       "            }, 500);\n",
       "            "
      ],
      "text/plain": [
       "<IPython.core.display.Javascript object>"
      ]
     },
     "metadata": {},
     "output_type": "display_data"
    }
   ],
   "source": [
    "# function to plot a boxplot and a histogram along the same scale.\n",
    "\n",
    "\n",
    "def histogram_boxplot(data, feature, figsize=(12, 7), kde=False, bins=None):\n",
    "    \"\"\"\n",
    "    Boxplot and histogram combined\n",
    "\n",
    "    data: dataframe\n",
    "    feature: dataframe column\n",
    "    figsize: size of figure (default (12,7))\n",
    "    kde: whether to the show density curve (default False)\n",
    "    bins: number of bins for histogram (default None)\n",
    "    \"\"\"\n",
    "    f2, (ax_box2, ax_hist2) = plt.subplots(\n",
    "        nrows=2,  # Number of rows of the subplot grid= 2\n",
    "        sharex=True,  # x-axis will be shared among all subplots\n",
    "        gridspec_kw={\"height_ratios\": (0.25, 0.75)},\n",
    "        figsize=figsize,\n",
    "    )  # creating the 2 subplots\n",
    "    sns.boxplot(\n",
    "        data=data, x=feature, ax=ax_box2, showmeans=True, color=\"violet\"\n",
    "    )  # boxplot will be created and a star will indicate the mean value of the column\n",
    "    sns.histplot(\n",
    "        data=data, x=feature, kde=kde, ax=ax_hist2, bins=bins, palette=\"winter\"\n",
    "    ) if bins else sns.histplot(\n",
    "        data=data, x=feature, kde=kde, ax=ax_hist2\n",
    "    )  # For histogram\n",
    "    ax_hist2.axvline(\n",
    "        data[feature].mean(), color=\"green\", linestyle=\"--\"\n",
    "    )  # Add mean to the histogram\n",
    "    ax_hist2.axvline(\n",
    "        data[feature].median(), color=\"black\", linestyle=\"-\"\n",
    "    )  # Add median to the histogram"
   ]
  },
  {
   "cell_type": "markdown",
   "id": "a86592c2",
   "metadata": {},
   "source": [
    "## Univariate Analysis"
   ]
  },
  {
   "cell_type": "markdown",
   "id": "275f9428",
   "metadata": {},
   "source": [
    "### Observation on Vendor Data"
   ]
  },
  {
   "cell_type": "code",
   "execution_count": 323,
   "id": "003968a3",
   "metadata": {},
   "outputs": [
    {
     "data": {
      "image/png": "[encoded data removed]",
      "text/plain": [
       "<Figure size 1080x360 with 1 Axes>"
      ]
     },
     "metadata": {},
     "output_type": "display_data"
    },
    {
     "data": {
      "application/javascript": [
       "\n",
       "            setTimeout(function() {\n",
       "                var nbb_cell_id = 323;\n",
       "                var nbb_unformatted_code = \"plt.figure(figsize=(15, 5))\\nax = sns.countplot(data[\\\"Vendor_Name\\\"], palette=\\\"winter\\\")\\nperc_on_bar(ax, data[\\\"Vendor_Name\\\"])\";\n",
       "                var nbb_formatted_code = \"plt.figure(figsize=(15, 5))\\nax = sns.countplot(data[\\\"Vendor_Name\\\"], palette=\\\"winter\\\")\\nperc_on_bar(ax, data[\\\"Vendor_Name\\\"])\";\n",
       "                var nbb_cells = Jupyter.notebook.get_cells();\n",
       "                for (var i = 0; i < nbb_cells.length; ++i) {\n",
       "                    if (nbb_cells[i].input_prompt_number == nbb_cell_id) {\n",
       "                        if (nbb_cells[i].get_text() == nbb_unformatted_code) {\n",
       "                             nbb_cells[i].set_text(nbb_formatted_code);\n",
       "                        }\n",
       "                        break;\n",
       "                    }\n",
       "                }\n",
       "            }, 500);\n",
       "            "
      ],
      "text/plain": [
       "<IPython.core.display.Javascript object>"
      ]
     },
     "metadata": {},
     "output_type": "display_data"
    }
   ],
   "source": [
    "plt.figure(figsize=(15, 5))\n",
    "ax = sns.countplot(data[\"Vendor_Name\"], palette=\"winter\")\n",
    "perc_on_bar(ax, data[\"Vendor_Name\"])"
   ]
  },
  {
   "cell_type": "markdown",
   "id": "74c24266",
   "metadata": {},
   "source": [
    "Observation\n",
    "* Approximately 80% of data came from Verifone Inc, while 20% came from Creative Mobile Technologies"
   ]
  },
  {
   "cell_type": "markdown",
   "id": "24aceae5",
   "metadata": {},
   "source": [
    "### Observation on RateCode Data"
   ]
  },
  {
   "cell_type": "code",
   "execution_count": 324,
   "id": "af39cc8e",
   "metadata": {},
   "outputs": [
    {
     "data": {
      "image/png": "[encoded data removed]",
      "text/plain": [
       "<Figure size 1080x360 with 1 Axes>"
      ]
     },
     "metadata": {},
     "output_type": "display_data"
    },
    {
     "data": {
      "application/javascript": [
       "\n",
       "            setTimeout(function() {\n",
       "                var nbb_cell_id = 324;\n",
       "                var nbb_unformatted_code = \"plt.figure(figsize=(15, 5))\\nax = sns.countplot(data[\\\"Rate_Code\\\"], palette=\\\"winter\\\")\\nperc_on_bar(ax, data[\\\"Rate_Code\\\"])\";\n",
       "                var nbb_formatted_code = \"plt.figure(figsize=(15, 5))\\nax = sns.countplot(data[\\\"Rate_Code\\\"], palette=\\\"winter\\\")\\nperc_on_bar(ax, data[\\\"Rate_Code\\\"])\";\n",
       "                var nbb_cells = Jupyter.notebook.get_cells();\n",
       "                for (var i = 0; i < nbb_cells.length; ++i) {\n",
       "                    if (nbb_cells[i].input_prompt_number == nbb_cell_id) {\n",
       "                        if (nbb_cells[i].get_text() == nbb_unformatted_code) {\n",
       "                             nbb_cells[i].set_text(nbb_formatted_code);\n",
       "                        }\n",
       "                        break;\n",
       "                    }\n",
       "                }\n",
       "            }, 500);\n",
       "            "
      ],
      "text/plain": [
       "<IPython.core.display.Javascript object>"
      ]
     },
     "metadata": {},
     "output_type": "display_data"
    }
   ],
   "source": [
    "plt.figure(figsize=(15, 5))\n",
    "ax = sns.countplot(data[\"Rate_Code\"], palette=\"winter\")\n",
    "perc_on_bar(ax, data[\"Rate_Code\"])"
   ]
  },
  {
   "cell_type": "markdown",
   "id": "18ca45fb",
   "metadata": {},
   "source": [
    "Observation\n",
    "* Approximately 97.5% of data came from Standard rate, 2% are Negotiated fare, other categories are very negilible"
   ]
  },
  {
   "cell_type": "markdown",
   "id": "bd3fabe5",
   "metadata": {},
   "source": [
    "### Observation on Passenger Count"
   ]
  },
  {
   "cell_type": "code",
   "execution_count": 325,
   "id": "a1857b73",
   "metadata": {},
   "outputs": [
    {
     "data": {
      "image/png": "[encoded data removed]",
      "text/plain": [
       "<Figure size 1080x360 with 1 Axes>"
      ]
     },
     "metadata": {},
     "output_type": "display_data"
    },
    {
     "data": {
      "application/javascript": [
       "\n",
       "            setTimeout(function() {\n",
       "                var nbb_cell_id = 325;\n",
       "                var nbb_unformatted_code = \"plt.figure(figsize=(15, 5))\\nax = sns.countplot(data[\\\"passenger_count\\\"], palette=\\\"winter\\\")\\nperc_on_bar(ax, data[\\\"passenger_count\\\"])\";\n",
       "                var nbb_formatted_code = \"plt.figure(figsize=(15, 5))\\nax = sns.countplot(data[\\\"passenger_count\\\"], palette=\\\"winter\\\")\\nperc_on_bar(ax, data[\\\"passenger_count\\\"])\";\n",
       "                var nbb_cells = Jupyter.notebook.get_cells();\n",
       "                for (var i = 0; i < nbb_cells.length; ++i) {\n",
       "                    if (nbb_cells[i].input_prompt_number == nbb_cell_id) {\n",
       "                        if (nbb_cells[i].get_text() == nbb_unformatted_code) {\n",
       "                             nbb_cells[i].set_text(nbb_formatted_code);\n",
       "                        }\n",
       "                        break;\n",
       "                    }\n",
       "                }\n",
       "            }, 500);\n",
       "            "
      ],
      "text/plain": [
       "<IPython.core.display.Javascript object>"
      ]
     },
     "metadata": {},
     "output_type": "display_data"
    }
   ],
   "source": [
    "plt.figure(figsize=(15, 5))\n",
    "ax = sns.countplot(data[\"passenger_count\"], palette=\"winter\")\n",
    "perc_on_bar(ax, data[\"passenger_count\"])"
   ]
  },
  {
   "cell_type": "markdown",
   "id": "9518f86b",
   "metadata": {},
   "source": [
    "Observation\n",
    "* Single passenger form 85% of data, 2 passenger count comes 7.8% , 5 passenger counts 3% , rest are very neglilible"
   ]
  },
  {
   "cell_type": "markdown",
   "id": "08e225fd",
   "metadata": {},
   "source": [
    "### Observation on Payment Type"
   ]
  },
  {
   "cell_type": "code",
   "execution_count": 326,
   "id": "0c368500",
   "metadata": {},
   "outputs": [
    {
     "data": {
      "image/png": "[encoded data removed]",
      "text/plain": [
       "<Figure size 1080x360 with 1 Axes>"
      ]
     },
     "metadata": {},
     "output_type": "display_data"
    },
    {
     "data": {
      "application/javascript": [
       "\n",
       "            setTimeout(function() {\n",
       "                var nbb_cell_id = 326;\n",
       "                var nbb_unformatted_code = \"plt.figure(figsize=(15, 5))\\nax = sns.countplot(data[\\\"Payment_Type_Desc\\\"], palette=\\\"winter\\\")\\nperc_on_bar(ax, data[\\\"Payment_Type_Desc\\\"])\";\n",
       "                var nbb_formatted_code = \"plt.figure(figsize=(15, 5))\\nax = sns.countplot(data[\\\"Payment_Type_Desc\\\"], palette=\\\"winter\\\")\\nperc_on_bar(ax, data[\\\"Payment_Type_Desc\\\"])\";\n",
       "                var nbb_cells = Jupyter.notebook.get_cells();\n",
       "                for (var i = 0; i < nbb_cells.length; ++i) {\n",
       "                    if (nbb_cells[i].input_prompt_number == nbb_cell_id) {\n",
       "                        if (nbb_cells[i].get_text() == nbb_unformatted_code) {\n",
       "                             nbb_cells[i].set_text(nbb_formatted_code);\n",
       "                        }\n",
       "                        break;\n",
       "                    }\n",
       "                }\n",
       "            }, 500);\n",
       "            "
      ],
      "text/plain": [
       "<IPython.core.display.Javascript object>"
      ]
     },
     "metadata": {},
     "output_type": "display_data"
    }
   ],
   "source": [
    "plt.figure(figsize=(15, 5))\n",
    "ax = sns.countplot(data[\"Payment_Type_Desc\"], palette=\"winter\")\n",
    "perc_on_bar(ax, data[\"Payment_Type_Desc\"])"
   ]
  },
  {
   "cell_type": "markdown",
   "id": "873c874c",
   "metadata": {},
   "source": [
    "Observation\n",
    "* CreditCard payments comprise of 48%, Cash payments are at 50%, rest are very negilible."
   ]
  },
  {
   "cell_type": "markdown",
   "id": "24a675f1",
   "metadata": {},
   "source": [
    "### Observation on Trip Type"
   ]
  },
  {
   "cell_type": "code",
   "execution_count": 327,
   "id": "1ef24604",
   "metadata": {},
   "outputs": [
    {
     "data": {
      "image/png": "[encoded data removed]",
      "text/plain": [
       "<Figure size 1080x360 with 1 Axes>"
      ]
     },
     "metadata": {},
     "output_type": "display_data"
    },
    {
     "data": {
      "application/javascript": [
       "\n",
       "            setTimeout(function() {\n",
       "                var nbb_cell_id = 327;\n",
       "                var nbb_unformatted_code = \"plt.figure(figsize=(15, 5))\\nax = sns.countplot(data[\\\"Trip_Type_Desc\\\"], palette=\\\"winter\\\")\\nperc_on_bar(ax, data[\\\"Trip_Type_Desc\\\"])\";\n",
       "                var nbb_formatted_code = \"plt.figure(figsize=(15, 5))\\nax = sns.countplot(data[\\\"Trip_Type_Desc\\\"], palette=\\\"winter\\\")\\nperc_on_bar(ax, data[\\\"Trip_Type_Desc\\\"])\";\n",
       "                var nbb_cells = Jupyter.notebook.get_cells();\n",
       "                for (var i = 0; i < nbb_cells.length; ++i) {\n",
       "                    if (nbb_cells[i].input_prompt_number == nbb_cell_id) {\n",
       "                        if (nbb_cells[i].get_text() == nbb_unformatted_code) {\n",
       "                             nbb_cells[i].set_text(nbb_formatted_code);\n",
       "                        }\n",
       "                        break;\n",
       "                    }\n",
       "                }\n",
       "            }, 500);\n",
       "            "
      ],
      "text/plain": [
       "<IPython.core.display.Javascript object>"
      ]
     },
     "metadata": {},
     "output_type": "display_data"
    }
   ],
   "source": [
    "plt.figure(figsize=(15, 5))\n",
    "ax = sns.countplot(data[\"Trip_Type_Desc\"], palette=\"winter\")\n",
    "perc_on_bar(ax, data[\"Trip_Type_Desc\"])"
   ]
  },
  {
   "cell_type": "markdown",
   "id": "cd66b4e1",
   "metadata": {},
   "source": [
    "Observation\n",
    "* About 98% of trips are 'Street-Hail', rest 2% are Dispatched."
   ]
  },
  {
   "cell_type": "markdown",
   "id": "1bf18f99",
   "metadata": {},
   "source": [
    "### Observation of Pickup and DropOff Hours"
   ]
  },
  {
   "cell_type": "code",
   "execution_count": 328,
   "id": "dfef3294",
   "metadata": {},
   "outputs": [
    {
     "data": {
      "image/png": "[encoded data removed]",
      "text/plain": [
       "<Figure size 1080x360 with 1 Axes>"
      ]
     },
     "metadata": {},
     "output_type": "display_data"
    },
    {
     "data": {
      "application/javascript": [
       "\n",
       "            setTimeout(function() {\n",
       "                var nbb_cell_id = 328;\n",
       "                var nbb_unformatted_code = \"plt.figure(figsize=(15, 5))\\nax = sns.countplot(data[\\\"pu_hour\\\"], palette=\\\"winter\\\")\\nperc_on_bar(ax, data[\\\"pu_hour\\\"])\";\n",
       "                var nbb_formatted_code = \"plt.figure(figsize=(15, 5))\\nax = sns.countplot(data[\\\"pu_hour\\\"], palette=\\\"winter\\\")\\nperc_on_bar(ax, data[\\\"pu_hour\\\"])\";\n",
       "                var nbb_cells = Jupyter.notebook.get_cells();\n",
       "                for (var i = 0; i < nbb_cells.length; ++i) {\n",
       "                    if (nbb_cells[i].input_prompt_number == nbb_cell_id) {\n",
       "                        if (nbb_cells[i].get_text() == nbb_unformatted_code) {\n",
       "                             nbb_cells[i].set_text(nbb_formatted_code);\n",
       "                        }\n",
       "                        break;\n",
       "                    }\n",
       "                }\n",
       "            }, 500);\n",
       "            "
      ],
      "text/plain": [
       "<IPython.core.display.Javascript object>"
      ]
     },
     "metadata": {},
     "output_type": "display_data"
    }
   ],
   "source": [
    "plt.figure(figsize=(15, 5))\n",
    "ax = sns.countplot(data[\"pu_hour\"], palette=\"winter\")\n",
    "perc_on_bar(ax, data[\"pu_hour\"])"
   ]
  },
  {
   "cell_type": "code",
   "execution_count": 329,
   "id": "a4ae718d",
   "metadata": {},
   "outputs": [
    {
     "data": {
      "image/png": "[encoded data removed]",
      "text/plain": [
       "<Figure size 1080x360 with 1 Axes>"
      ]
     },
     "metadata": {},
     "output_type": "display_data"
    },
    {
     "data": {
      "application/javascript": [
       "\n",
       "            setTimeout(function() {\n",
       "                var nbb_cell_id = 329;\n",
       "                var nbb_unformatted_code = \"plt.figure(figsize=(15, 5))\\nax = sns.countplot(data[\\\"do_hour\\\"], palette=\\\"winter\\\")\\nperc_on_bar(ax, data[\\\"do_hour\\\"])\";\n",
       "                var nbb_formatted_code = \"plt.figure(figsize=(15, 5))\\nax = sns.countplot(data[\\\"do_hour\\\"], palette=\\\"winter\\\")\\nperc_on_bar(ax, data[\\\"do_hour\\\"])\";\n",
       "                var nbb_cells = Jupyter.notebook.get_cells();\n",
       "                for (var i = 0; i < nbb_cells.length; ++i) {\n",
       "                    if (nbb_cells[i].input_prompt_number == nbb_cell_id) {\n",
       "                        if (nbb_cells[i].get_text() == nbb_unformatted_code) {\n",
       "                             nbb_cells[i].set_text(nbb_formatted_code);\n",
       "                        }\n",
       "                        break;\n",
       "                    }\n",
       "                }\n",
       "            }, 500);\n",
       "            "
      ],
      "text/plain": [
       "<IPython.core.display.Javascript object>"
      ]
     },
     "metadata": {},
     "output_type": "display_data"
    }
   ],
   "source": [
    "plt.figure(figsize=(15, 5))\n",
    "ax = sns.countplot(data[\"do_hour\"], palette=\"winter\")\n",
    "perc_on_bar(ax, data[\"do_hour\"])"
   ]
  },
  {
   "cell_type": "markdown",
   "id": "7a9fc7e8",
   "metadata": {},
   "source": [
    "Observation\n",
    "* Pickup and Dropoff hours form a similar pattern, the activity is low during early morning hours (~ 1%), it increases towards the morning working hours (~ 4%), it peaks to the maximum between 5-8 PM (~ upto 7%)"
   ]
  },
  {
   "cell_type": "markdown",
   "id": "5d10e40b",
   "metadata": {},
   "source": [
    "### Question 2. Observation and Histogram on trip distance"
   ]
  },
  {
   "cell_type": "code",
   "execution_count": 330,
   "id": "565a7cd6",
   "metadata": {},
   "outputs": [
    {
     "data": {
      "text/plain": [
       "count    1048573.00\n",
       "mean           2.86\n",
       "std            3.00\n",
       "min            0.00\n",
       "25%            1.04\n",
       "50%            1.87\n",
       "75%            3.55\n",
       "max          227.44\n",
       "Name: trip_distance, dtype: float64"
      ]
     },
     "execution_count": 330,
     "metadata": {},
     "output_type": "execute_result"
    },
    {
     "data": {
      "application/javascript": [
       "\n",
       "            setTimeout(function() {\n",
       "                var nbb_cell_id = 330;\n",
       "                var nbb_unformatted_code = \"data[\\\"trip_distance\\\"].describe().round(2)\";\n",
       "                var nbb_formatted_code = \"data[\\\"trip_distance\\\"].describe().round(2)\";\n",
       "                var nbb_cells = Jupyter.notebook.get_cells();\n",
       "                for (var i = 0; i < nbb_cells.length; ++i) {\n",
       "                    if (nbb_cells[i].input_prompt_number == nbb_cell_id) {\n",
       "                        if (nbb_cells[i].get_text() == nbb_unformatted_code) {\n",
       "                             nbb_cells[i].set_text(nbb_formatted_code);\n",
       "                        }\n",
       "                        break;\n",
       "                    }\n",
       "                }\n",
       "            }, 500);\n",
       "            "
      ],
      "text/plain": [
       "<IPython.core.display.Javascript object>"
      ]
     },
     "metadata": {},
     "output_type": "display_data"
    }
   ],
   "source": [
    "data[\"trip_distance\"].describe().round(2)"
   ]
  },
  {
   "cell_type": "markdown",
   "id": "23371800",
   "metadata": {},
   "source": [
    "From the summary statistics for trip distance, following can be inferred for a dataset of 10458573 rows\n",
    "\n",
    "* Average of trip_distance is 2.86 miles, Median value is 1.87 miles\n",
    "* Minimum Value of trip distance is 0  and Max value is 227.44 miles\n",
    "* Value as '0' for trip_distance could be a data issue or rounding value to 0.\n",
    "* There is huge difference between max trip distance value(227.44)  and the 75% quantile value (3.55). \n",
    "* This could be due to the presence of outliers.\n"
   ]
  },
  {
   "cell_type": "code",
   "execution_count": 331,
   "id": "96b7fc34",
   "metadata": {},
   "outputs": [
    {
     "data": {
      "text/plain": [
       "4.0112020289773485"
      ]
     },
     "execution_count": 331,
     "metadata": {},
     "output_type": "execute_result"
    },
    {
     "data": {
      "application/javascript": [
       "\n",
       "            setTimeout(function() {\n",
       "                var nbb_cell_id = 331;\n",
       "                var nbb_unformatted_code = \"data[\\\"trip_distance\\\"].skew()\";\n",
       "                var nbb_formatted_code = \"data[\\\"trip_distance\\\"].skew()\";\n",
       "                var nbb_cells = Jupyter.notebook.get_cells();\n",
       "                for (var i = 0; i < nbb_cells.length; ++i) {\n",
       "                    if (nbb_cells[i].input_prompt_number == nbb_cell_id) {\n",
       "                        if (nbb_cells[i].get_text() == nbb_unformatted_code) {\n",
       "                             nbb_cells[i].set_text(nbb_formatted_code);\n",
       "                        }\n",
       "                        break;\n",
       "                    }\n",
       "                }\n",
       "            }, 500);\n",
       "            "
      ],
      "text/plain": [
       "<IPython.core.display.Javascript object>"
      ]
     },
     "metadata": {},
     "output_type": "display_data"
    }
   ],
   "source": [
    "data[\"trip_distance\"].skew()"
   ]
  },
  {
   "cell_type": "markdown",
   "id": "6bd402a0",
   "metadata": {},
   "source": [
    "The Skew value of 4 is showing that this is a Highly Skewed Distribution"
   ]
  },
  {
   "cell_type": "code",
   "execution_count": 332,
   "id": "e12b8c39",
   "metadata": {},
   "outputs": [
    {
     "data": {
      "text/plain": [
       "0    0.0\n",
       "dtype: float64"
      ]
     },
     "execution_count": 332,
     "metadata": {},
     "output_type": "execute_result"
    },
    {
     "data": {
      "application/javascript": [
       "\n",
       "            setTimeout(function() {\n",
       "                var nbb_cell_id = 332;\n",
       "                var nbb_unformatted_code = \"data[\\\"trip_distance\\\"].mode()\";\n",
       "                var nbb_formatted_code = \"data[\\\"trip_distance\\\"].mode()\";\n",
       "                var nbb_cells = Jupyter.notebook.get_cells();\n",
       "                for (var i = 0; i < nbb_cells.length; ++i) {\n",
       "                    if (nbb_cells[i].input_prompt_number == nbb_cell_id) {\n",
       "                        if (nbb_cells[i].get_text() == nbb_unformatted_code) {\n",
       "                             nbb_cells[i].set_text(nbb_formatted_code);\n",
       "                        }\n",
       "                        break;\n",
       "                    }\n",
       "                }\n",
       "            }, 500);\n",
       "            "
      ],
      "text/plain": [
       "<IPython.core.display.Javascript object>"
      ]
     },
     "metadata": {},
     "output_type": "display_data"
    }
   ],
   "source": [
    "data[\"trip_distance\"].mode()"
   ]
  },
  {
   "cell_type": "code",
   "execution_count": 333,
   "id": "748f024b",
   "metadata": {},
   "outputs": [
    {
     "data": {
      "text/plain": [
       "0.00     14769\n",
       "1.00     11976\n",
       "0.90     11897\n",
       "0.80     11624\n",
       "1.10     11246\n",
       "         ...  \n",
       "20.21        1\n",
       "21.19        1\n",
       "31.19        1\n",
       "30.33        1\n",
       "35.56        1\n",
       "Name: trip_distance, Length: 3046, dtype: int64"
      ]
     },
     "execution_count": 333,
     "metadata": {},
     "output_type": "execute_result"
    },
    {
     "data": {
      "application/javascript": [
       "\n",
       "            setTimeout(function() {\n",
       "                var nbb_cell_id = 333;\n",
       "                var nbb_unformatted_code = \"# pandas count unique values ascending:\\ndata[\\\"trip_distance\\\"].value_counts(ascending=False)\";\n",
       "                var nbb_formatted_code = \"# pandas count unique values ascending:\\ndata[\\\"trip_distance\\\"].value_counts(ascending=False)\";\n",
       "                var nbb_cells = Jupyter.notebook.get_cells();\n",
       "                for (var i = 0; i < nbb_cells.length; ++i) {\n",
       "                    if (nbb_cells[i].input_prompt_number == nbb_cell_id) {\n",
       "                        if (nbb_cells[i].get_text() == nbb_unformatted_code) {\n",
       "                             nbb_cells[i].set_text(nbb_formatted_code);\n",
       "                        }\n",
       "                        break;\n",
       "                    }\n",
       "                }\n",
       "            }, 500);\n",
       "            "
      ],
      "text/plain": [
       "<IPython.core.display.Javascript object>"
      ]
     },
     "metadata": {},
     "output_type": "display_data"
    }
   ],
   "source": [
    "# pandas count unique values ascending:\n",
    "data[\"trip_distance\"].value_counts(ascending=False)"
   ]
  },
  {
   "cell_type": "markdown",
   "id": "9fc071e3",
   "metadata": {},
   "source": [
    "* 14769 records has trip distance noted as 0 (This is the Mode value as well)\n",
    "* This could be due to a rounding off error, or a data error."
   ]
  },
  {
   "cell_type": "code",
   "execution_count": 334,
   "id": "3db611dc",
   "metadata": {
    "scrolled": true
   },
   "outputs": [
    {
     "data": {
      "image/png": "[encoded data removed]",
      "text/plain": [
       "<Figure size 864x504 with 2 Axes>"
      ]
     },
     "metadata": {},
     "output_type": "display_data"
    },
    {
     "data": {
      "application/javascript": [
       "\n",
       "            setTimeout(function() {\n",
       "                var nbb_cell_id = 334;\n",
       "                var nbb_unformatted_code = \"histogram_boxplot(data, \\\"trip_distance\\\")\";\n",
       "                var nbb_formatted_code = \"histogram_boxplot(data, \\\"trip_distance\\\")\";\n",
       "                var nbb_cells = Jupyter.notebook.get_cells();\n",
       "                for (var i = 0; i < nbb_cells.length; ++i) {\n",
       "                    if (nbb_cells[i].input_prompt_number == nbb_cell_id) {\n",
       "                        if (nbb_cells[i].get_text() == nbb_unformatted_code) {\n",
       "                             nbb_cells[i].set_text(nbb_formatted_code);\n",
       "                        }\n",
       "                        break;\n",
       "                    }\n",
       "                }\n",
       "            }, 500);\n",
       "            "
      ],
      "text/plain": [
       "<IPython.core.display.Javascript object>"
      ]
     },
     "metadata": {},
     "output_type": "display_data"
    }
   ],
   "source": [
    "histogram_boxplot(data, \"trip_distance\")"
   ]
  },
  {
   "cell_type": "markdown",
   "id": "7cb726c2",
   "metadata": {},
   "source": [
    "* Histogram (above) of the trip distance shows the highly skewed distribution with many higher outliers (highest = 227)\n",
    "* Majority of the trip distance values are less than 1 mile\n",
    "* Mean (2.86 miles)  is shown in green color, and Median (1.87)  shown in black color "
   ]
  },
  {
   "cell_type": "markdown",
   "id": "4210fbca",
   "metadata": {},
   "source": [
    "## Bivariate Analysis"
   ]
  },
  {
   "cell_type": "markdown",
   "id": "dae82b93",
   "metadata": {},
   "source": [
    "### Question 3. Report Mean and Median trip distance grouped by hour of day"
   ]
  },
  {
   "cell_type": "code",
   "execution_count": 335,
   "id": "f96a0404",
   "metadata": {},
   "outputs": [
    {
     "data": {
      "text/html": [
       "<div>\n",
       "<style scoped>\n",
       "    .dataframe tbody tr th:only-of-type {\n",
       "        vertical-align: middle;\n",
       "    }\n",
       "\n",
       "    .dataframe tbody tr th {\n",
       "        vertical-align: top;\n",
       "    }\n",
       "\n",
       "    .dataframe thead th {\n",
       "        text-align: right;\n",
       "    }\n",
       "</style>\n",
       "<table border=\"1\" class=\"dataframe\">\n",
       "  <thead>\n",
       "    <tr style=\"text-align: right;\">\n",
       "      <th></th>\n",
       "      <th>mean_dist_pickup</th>\n",
       "      <th>mean_dist_dropoff</th>\n",
       "      <th>median_dist_pickup</th>\n",
       "      <th>median_dist_dropoff</th>\n",
       "    </tr>\n",
       "  </thead>\n",
       "  <tbody>\n",
       "    <tr>\n",
       "      <th>0</th>\n",
       "      <td>3.087760</td>\n",
       "      <td>3.227831</td>\n",
       "      <td>2.100</td>\n",
       "      <td>2.17</td>\n",
       "    </tr>\n",
       "    <tr>\n",
       "      <th>1</th>\n",
       "      <td>2.956130</td>\n",
       "      <td>3.081391</td>\n",
       "      <td>2.040</td>\n",
       "      <td>2.10</td>\n",
       "    </tr>\n",
       "    <tr>\n",
       "      <th>2</th>\n",
       "      <td>3.035907</td>\n",
       "      <td>3.107419</td>\n",
       "      <td>2.100</td>\n",
       "      <td>2.18</td>\n",
       "    </tr>\n",
       "    <tr>\n",
       "      <th>3</th>\n",
       "      <td>3.182557</td>\n",
       "      <td>3.209297</td>\n",
       "      <td>2.200</td>\n",
       "      <td>2.22</td>\n",
       "    </tr>\n",
       "    <tr>\n",
       "      <th>4</th>\n",
       "      <td>3.474792</td>\n",
       "      <td>3.433361</td>\n",
       "      <td>2.370</td>\n",
       "      <td>2.40</td>\n",
       "    </tr>\n",
       "    <tr>\n",
       "      <th>5</th>\n",
       "      <td>4.074117</td>\n",
       "      <td>4.051093</td>\n",
       "      <td>2.785</td>\n",
       "      <td>2.80</td>\n",
       "    </tr>\n",
       "    <tr>\n",
       "      <th>6</th>\n",
       "      <td>3.882630</td>\n",
       "      <td>3.870023</td>\n",
       "      <td>2.700</td>\n",
       "      <td>2.60</td>\n",
       "    </tr>\n",
       "    <tr>\n",
       "      <th>7</th>\n",
       "      <td>3.054220</td>\n",
       "      <td>2.996256</td>\n",
       "      <td>1.990</td>\n",
       "      <td>1.90</td>\n",
       "    </tr>\n",
       "    <tr>\n",
       "      <th>8</th>\n",
       "      <td>2.844839</td>\n",
       "      <td>2.710371</td>\n",
       "      <td>1.800</td>\n",
       "      <td>1.72</td>\n",
       "    </tr>\n",
       "    <tr>\n",
       "      <th>9</th>\n",
       "      <td>2.800926</td>\n",
       "      <td>2.804308</td>\n",
       "      <td>1.790</td>\n",
       "      <td>1.80</td>\n",
       "    </tr>\n",
       "    <tr>\n",
       "      <th>10</th>\n",
       "      <td>2.757331</td>\n",
       "      <td>2.804259</td>\n",
       "      <td>1.780</td>\n",
       "      <td>1.80</td>\n",
       "    </tr>\n",
       "    <tr>\n",
       "      <th>11</th>\n",
       "      <td>2.797005</td>\n",
       "      <td>2.768358</td>\n",
       "      <td>1.790</td>\n",
       "      <td>1.80</td>\n",
       "    </tr>\n",
       "    <tr>\n",
       "      <th>12</th>\n",
       "      <td>2.743360</td>\n",
       "      <td>2.773300</td>\n",
       "      <td>1.760</td>\n",
       "      <td>1.78</td>\n",
       "    </tr>\n",
       "    <tr>\n",
       "      <th>13</th>\n",
       "      <td>2.766491</td>\n",
       "      <td>2.737482</td>\n",
       "      <td>1.770</td>\n",
       "      <td>1.76</td>\n",
       "    </tr>\n",
       "    <tr>\n",
       "      <th>14</th>\n",
       "      <td>2.715236</td>\n",
       "      <td>2.639697</td>\n",
       "      <td>1.750</td>\n",
       "      <td>1.70</td>\n",
       "    </tr>\n",
       "    <tr>\n",
       "      <th>15</th>\n",
       "      <td>2.687547</td>\n",
       "      <td>2.607773</td>\n",
       "      <td>1.730</td>\n",
       "      <td>1.70</td>\n",
       "    </tr>\n",
       "    <tr>\n",
       "      <th>16</th>\n",
       "      <td>2.661373</td>\n",
       "      <td>2.607132</td>\n",
       "      <td>1.730</td>\n",
       "      <td>1.70</td>\n",
       "    </tr>\n",
       "    <tr>\n",
       "      <th>17</th>\n",
       "      <td>2.560356</td>\n",
       "      <td>2.572630</td>\n",
       "      <td>1.700</td>\n",
       "      <td>1.69</td>\n",
       "    </tr>\n",
       "    <tr>\n",
       "      <th>18</th>\n",
       "      <td>2.550764</td>\n",
       "      <td>2.554321</td>\n",
       "      <td>1.710</td>\n",
       "      <td>1.70</td>\n",
       "    </tr>\n",
       "    <tr>\n",
       "      <th>19</th>\n",
       "      <td>2.602415</td>\n",
       "      <td>2.643419</td>\n",
       "      <td>1.760</td>\n",
       "      <td>1.77</td>\n",
       "    </tr>\n",
       "    <tr>\n",
       "      <th>20</th>\n",
       "      <td>2.712870</td>\n",
       "      <td>2.727758</td>\n",
       "      <td>1.820</td>\n",
       "      <td>1.85</td>\n",
       "    </tr>\n",
       "    <tr>\n",
       "      <th>21</th>\n",
       "      <td>2.920541</td>\n",
       "      <td>2.870248</td>\n",
       "      <td>1.930</td>\n",
       "      <td>1.90</td>\n",
       "    </tr>\n",
       "    <tr>\n",
       "      <th>22</th>\n",
       "      <td>3.200363</td>\n",
       "      <td>3.113824</td>\n",
       "      <td>2.080</td>\n",
       "      <td>2.04</td>\n",
       "    </tr>\n",
       "    <tr>\n",
       "      <th>23</th>\n",
       "      <td>3.188035</td>\n",
       "      <td>3.271572</td>\n",
       "      <td>2.130</td>\n",
       "      <td>2.17</td>\n",
       "    </tr>\n",
       "  </tbody>\n",
       "</table>\n",
       "</div>"
      ],
      "text/plain": [
       "    mean_dist_pickup  mean_dist_dropoff  median_dist_pickup  \\\n",
       "0           3.087760           3.227831               2.100   \n",
       "1           2.956130           3.081391               2.040   \n",
       "2           3.035907           3.107419               2.100   \n",
       "3           3.182557           3.209297               2.200   \n",
       "4           3.474792           3.433361               2.370   \n",
       "5           4.074117           4.051093               2.785   \n",
       "6           3.882630           3.870023               2.700   \n",
       "7           3.054220           2.996256               1.990   \n",
       "8           2.844839           2.710371               1.800   \n",
       "9           2.800926           2.804308               1.790   \n",
       "10          2.757331           2.804259               1.780   \n",
       "11          2.797005           2.768358               1.790   \n",
       "12          2.743360           2.773300               1.760   \n",
       "13          2.766491           2.737482               1.770   \n",
       "14          2.715236           2.639697               1.750   \n",
       "15          2.687547           2.607773               1.730   \n",
       "16          2.661373           2.607132               1.730   \n",
       "17          2.560356           2.572630               1.700   \n",
       "18          2.550764           2.554321               1.710   \n",
       "19          2.602415           2.643419               1.760   \n",
       "20          2.712870           2.727758               1.820   \n",
       "21          2.920541           2.870248               1.930   \n",
       "22          3.200363           3.113824               2.080   \n",
       "23          3.188035           3.271572               2.130   \n",
       "\n",
       "    median_dist_dropoff  \n",
       "0                  2.17  \n",
       "1                  2.10  \n",
       "2                  2.18  \n",
       "3                  2.22  \n",
       "4                  2.40  \n",
       "5                  2.80  \n",
       "6                  2.60  \n",
       "7                  1.90  \n",
       "8                  1.72  \n",
       "9                  1.80  \n",
       "10                 1.80  \n",
       "11                 1.80  \n",
       "12                 1.78  \n",
       "13                 1.76  \n",
       "14                 1.70  \n",
       "15                 1.70  \n",
       "16                 1.70  \n",
       "17                 1.69  \n",
       "18                 1.70  \n",
       "19                 1.77  \n",
       "20                 1.85  \n",
       "21                 1.90  \n",
       "22                 2.04  \n",
       "23                 2.17  "
      ]
     },
     "execution_count": 335,
     "metadata": {},
     "output_type": "execute_result"
    },
    {
     "data": {
      "application/javascript": [
       "\n",
       "            setTimeout(function() {\n",
       "                var nbb_cell_id = 335;\n",
       "                var nbb_unformatted_code = \"## Calculate mean Trip Distance (Pickup and Dropoff)  grouped by hour\\nmean_dist_pickup = data[\\\"trip_distance\\\"].groupby(data[\\\"pu_hour\\\"]).mean()\\nmean_dist_dropoff = data[\\\"trip_distance\\\"].groupby(data[\\\"do_hour\\\"]).mean()\\n\\n## Calculate median Trip Distance (Pickup and Dropoff)  grouped by hour\\nmedian_dist_pickup = data[\\\"trip_distance\\\"].groupby(data[\\\"pu_hour\\\"]).median()\\nmedian_dist_dropoff = data[\\\"trip_distance\\\"].groupby(data[\\\"do_hour\\\"]).median()\\n\\n# Create a dataframe data2 to store this values\\ndata2 = pd.concat([mean_dist_pickup, mean_dist_dropoff,\\n                median_dist_pickup, median_dist_dropoff], axis=1)\\ndata2.columns = ['mean_dist_pickup', 'mean_dist_dropoff',\\n              'median_dist_pickup', 'median_dist_dropoff']\\ndata2\";\n",
       "                var nbb_formatted_code = \"## Calculate mean Trip Distance (Pickup and Dropoff)  grouped by hour\\nmean_dist_pickup = data[\\\"trip_distance\\\"].groupby(data[\\\"pu_hour\\\"]).mean()\\nmean_dist_dropoff = data[\\\"trip_distance\\\"].groupby(data[\\\"do_hour\\\"]).mean()\\n\\n## Calculate median Trip Distance (Pickup and Dropoff)  grouped by hour\\nmedian_dist_pickup = data[\\\"trip_distance\\\"].groupby(data[\\\"pu_hour\\\"]).median()\\nmedian_dist_dropoff = data[\\\"trip_distance\\\"].groupby(data[\\\"do_hour\\\"]).median()\\n\\n# Create a dataframe data2 to store this values\\ndata2 = pd.concat(\\n    [mean_dist_pickup, mean_dist_dropoff, median_dist_pickup, median_dist_dropoff],\\n    axis=1,\\n)\\ndata2.columns = [\\n    \\\"mean_dist_pickup\\\",\\n    \\\"mean_dist_dropoff\\\",\\n    \\\"median_dist_pickup\\\",\\n    \\\"median_dist_dropoff\\\",\\n]\\ndata2\";\n",
       "                var nbb_cells = Jupyter.notebook.get_cells();\n",
       "                for (var i = 0; i < nbb_cells.length; ++i) {\n",
       "                    if (nbb_cells[i].input_prompt_number == nbb_cell_id) {\n",
       "                        if (nbb_cells[i].get_text() == nbb_unformatted_code) {\n",
       "                             nbb_cells[i].set_text(nbb_formatted_code);\n",
       "                        }\n",
       "                        break;\n",
       "                    }\n",
       "                }\n",
       "            }, 500);\n",
       "            "
      ],
      "text/plain": [
       "<IPython.core.display.Javascript object>"
      ]
     },
     "metadata": {},
     "output_type": "display_data"
    }
   ],
   "source": [
    "## Calculate mean Trip Distance (Pickup and Dropoff)  grouped by hour\n",
    "mean_dist_pickup = data[\"trip_distance\"].groupby(data[\"pu_hour\"]).mean()\n",
    "mean_dist_dropoff = data[\"trip_distance\"].groupby(data[\"do_hour\"]).mean()\n",
    "\n",
    "## Calculate median Trip Distance (Pickup and Dropoff)  grouped by hour\n",
    "median_dist_pickup = data[\"trip_distance\"].groupby(data[\"pu_hour\"]).median()\n",
    "median_dist_dropoff = data[\"trip_distance\"].groupby(data[\"do_hour\"]).median()\n",
    "\n",
    "# Create a dataframe data2 to store this values\n",
    "data2 = pd.concat([mean_dist_pickup, mean_dist_dropoff,\n",
    "                median_dist_pickup, median_dist_dropoff], axis=1)\n",
    "data2.columns = ['mean_dist_pickup', 'mean_dist_dropoff',\n",
    "              'median_dist_pickup', 'median_dist_dropoff']\n",
    "data2\n"
   ]
  },
  {
   "cell_type": "markdown",
   "id": "3852f048",
   "metadata": {},
   "source": [
    "### Plotting the diagram, based on the Mean and Median of trip_distance , hourly."
   ]
  },
  {
   "cell_type": "code",
   "execution_count": 336,
   "id": "fb844624",
   "metadata": {},
   "outputs": [
    {
     "data": {
      "image/png": "[encoded data removed]",
      "text/plain": [
       "<Figure size 432x288 with 1 Axes>"
      ]
     },
     "metadata": {},
     "output_type": "display_data"
    },
    {
     "data": {
      "application/javascript": [
       "\n",
       "            setTimeout(function() {\n",
       "                var nbb_cell_id = 336;\n",
       "                var nbb_unformatted_code = \"data2.plot(title=\\\"Plotting Mean and Median Distance by hour\\\")\\nplt.xlabel(\\\"Hours\\\")\\nplt.show()\";\n",
       "                var nbb_formatted_code = \"data2.plot(title=\\\"Plotting Mean and Median Distance by hour\\\")\\nplt.xlabel(\\\"Hours\\\")\\nplt.show()\";\n",
       "                var nbb_cells = Jupyter.notebook.get_cells();\n",
       "                for (var i = 0; i < nbb_cells.length; ++i) {\n",
       "                    if (nbb_cells[i].input_prompt_number == nbb_cell_id) {\n",
       "                        if (nbb_cells[i].get_text() == nbb_unformatted_code) {\n",
       "                             nbb_cells[i].set_text(nbb_formatted_code);\n",
       "                        }\n",
       "                        break;\n",
       "                    }\n",
       "                }\n",
       "            }, 500);\n",
       "            "
      ],
      "text/plain": [
       "<IPython.core.display.Javascript object>"
      ]
     },
     "metadata": {},
     "output_type": "display_data"
    }
   ],
   "source": [
    "data2.plot(title=\"Plotting Mean and Median Distance by hour\")\n",
    "plt.xlabel(\"Hours\")\n",
    "plt.show()"
   ]
  },
  {
   "cell_type": "markdown",
   "id": "c5877c12",
   "metadata": {},
   "source": [
    "Observation \n",
    "* The Mean values for Trip Distances against pickup and dropoff hours forms a similar pattern, without much deviation\n",
    "* Similalry Median values for Trip Distances against pickup and dropoff hours forms a similar pattern, without much deviation as well.\n",
    "* The Mean and Median values peak around 5 AM, then comes down, till around 16 hours and slowly picks up upto midnight.\n",
    "* Mean values are reported higher than Median values for both Pickup and Dropoff\n",
    "* From this we can infer that the distribution of Trip Distance is positively skewed.(skewed to the right)\n",
    "* The trip distance has many outliers as we saw the univariate analysis, and this is reason for skewness.\n"
   ]
  },
  {
   "cell_type": "markdown",
   "id": "27ff98a0",
   "metadata": {},
   "source": [
    "### Other Bivariate Analysis on Trip Distance"
   ]
  },
  {
   "cell_type": "markdown",
   "id": "26ae78ed",
   "metadata": {},
   "source": [
    "### Trip Distance vs Vendor_Name"
   ]
  },
  {
   "cell_type": "code",
   "execution_count": 337,
   "id": "7454d025",
   "metadata": {},
   "outputs": [
    {
     "data": {
      "text/plain": [
       "<AxesSubplot:xlabel='Vendor_Name', ylabel='trip_distance'>"
      ]
     },
     "execution_count": 337,
     "metadata": {},
     "output_type": "execute_result"
    },
    {
     "data": {
      "image/png": "[encoded data removed]",
      "text/plain": [
       "<Figure size 432x288 with 1 Axes>"
      ]
     },
     "metadata": {},
     "output_type": "display_data"
    },
    {
     "data": {
      "application/javascript": [
       "\n",
       "            setTimeout(function() {\n",
       "                var nbb_cell_id = 337;\n",
       "                var nbb_unformatted_code = \"sns.barplot(x=\\\"Vendor_Name\\\", y=\\\"trip_distance\\\", data=data)\";\n",
       "                var nbb_formatted_code = \"sns.barplot(x=\\\"Vendor_Name\\\", y=\\\"trip_distance\\\", data=data)\";\n",
       "                var nbb_cells = Jupyter.notebook.get_cells();\n",
       "                for (var i = 0; i < nbb_cells.length; ++i) {\n",
       "                    if (nbb_cells[i].input_prompt_number == nbb_cell_id) {\n",
       "                        if (nbb_cells[i].get_text() == nbb_unformatted_code) {\n",
       "                             nbb_cells[i].set_text(nbb_formatted_code);\n",
       "                        }\n",
       "                        break;\n",
       "                    }\n",
       "                }\n",
       "            }, 500);\n",
       "            "
      ],
      "text/plain": [
       "<IPython.core.display.Javascript object>"
      ]
     },
     "metadata": {},
     "output_type": "display_data"
    }
   ],
   "source": [
    "sns.barplot(x=\"Vendor_Name\", y=\"trip_distance\", data=data)"
   ]
  },
  {
   "cell_type": "markdown",
   "id": "29f5050b",
   "metadata": {},
   "source": [
    "Observation\n",
    "* Trip Distances are more or less similar when comparing the Vendors (Verifone and Creative Mobile)"
   ]
  },
  {
   "cell_type": "markdown",
   "id": "9b389d03",
   "metadata": {},
   "source": [
    "### Trip Distance vs Passenger Count"
   ]
  },
  {
   "cell_type": "code",
   "execution_count": 338,
   "id": "3159fda8",
   "metadata": {
    "scrolled": true
   },
   "outputs": [
    {
     "data": {
      "text/plain": [
       "<AxesSubplot:xlabel='passenger_count', ylabel='trip_distance'>"
      ]
     },
     "execution_count": 338,
     "metadata": {},
     "output_type": "execute_result"
    },
    {
     "data": {
      "image/png": "[encoded data removed]",
      "text/plain": [
       "<Figure size 432x288 with 1 Axes>"
      ]
     },
     "metadata": {},
     "output_type": "display_data"
    },
    {
     "data": {
      "application/javascript": [
       "\n",
       "            setTimeout(function() {\n",
       "                var nbb_cell_id = 338;\n",
       "                var nbb_unformatted_code = \"# Trip distance per passenger count\\nsns.barplot(x=\\\"passenger_count\\\", y=\\\"trip_distance\\\", data=data)\";\n",
       "                var nbb_formatted_code = \"# Trip distance per passenger count\\nsns.barplot(x=\\\"passenger_count\\\", y=\\\"trip_distance\\\", data=data)\";\n",
       "                var nbb_cells = Jupyter.notebook.get_cells();\n",
       "                for (var i = 0; i < nbb_cells.length; ++i) {\n",
       "                    if (nbb_cells[i].input_prompt_number == nbb_cell_id) {\n",
       "                        if (nbb_cells[i].get_text() == nbb_unformatted_code) {\n",
       "                             nbb_cells[i].set_text(nbb_formatted_code);\n",
       "                        }\n",
       "                        break;\n",
       "                    }\n",
       "                }\n",
       "            }, 500);\n",
       "            "
      ],
      "text/plain": [
       "<IPython.core.display.Javascript object>"
      ]
     },
     "metadata": {},
     "output_type": "display_data"
    }
   ],
   "source": [
    "# Trip distance per passenger count\n",
    "sns.barplot(x=\"passenger_count\", y=\"trip_distance\", data=data)"
   ]
  },
  {
   "cell_type": "markdown",
   "id": "ffabdbb2",
   "metadata": {},
   "source": [
    "Observation\n",
    "* Trip Distances are mostly high (around 3 miles) when passenger counts are between 1-6\n",
    "* We have some data with passenger count as 0 , need to analyze further to see if it is a data error.\n",
    "* Passenger Counts 7 or more have many outliers, so the distribution is not uniform. (shown by error bars)"
   ]
  },
  {
   "cell_type": "markdown",
   "id": "4b8a143b",
   "metadata": {},
   "source": [
    "### Trip Distance vs Trip Type"
   ]
  },
  {
   "cell_type": "code",
   "execution_count": 339,
   "id": "1a6af3b3",
   "metadata": {},
   "outputs": [
    {
     "data": {
      "text/plain": [
       "<AxesSubplot:xlabel='Trip_Type_Desc', ylabel='trip_distance'>"
      ]
     },
     "execution_count": 339,
     "metadata": {},
     "output_type": "execute_result"
    },
    {
     "data": {
      "image/png": "[encoded data removed]",
      "text/plain": [
       "<Figure size 432x288 with 1 Axes>"
      ]
     },
     "metadata": {},
     "output_type": "display_data"
    },
    {
     "data": {
      "application/javascript": [
       "\n",
       "            setTimeout(function() {\n",
       "                var nbb_cell_id = 339;\n",
       "                var nbb_unformatted_code = \"sns.barplot(x=\\\"Trip_Type_Desc\\\", y=\\\"trip_distance\\\", data=data)\";\n",
       "                var nbb_formatted_code = \"sns.barplot(x=\\\"Trip_Type_Desc\\\", y=\\\"trip_distance\\\", data=data)\";\n",
       "                var nbb_cells = Jupyter.notebook.get_cells();\n",
       "                for (var i = 0; i < nbb_cells.length; ++i) {\n",
       "                    if (nbb_cells[i].input_prompt_number == nbb_cell_id) {\n",
       "                        if (nbb_cells[i].get_text() == nbb_unformatted_code) {\n",
       "                             nbb_cells[i].set_text(nbb_formatted_code);\n",
       "                        }\n",
       "                        break;\n",
       "                    }\n",
       "                }\n",
       "            }, 500);\n",
       "            "
      ],
      "text/plain": [
       "<IPython.core.display.Javascript object>"
      ]
     },
     "metadata": {},
     "output_type": "display_data"
    }
   ],
   "source": [
    "sns.barplot(x=\"Trip_Type_Desc\", y=\"trip_distance\", data=data)"
   ]
  },
  {
   "cell_type": "markdown",
   "id": "aaf66bd1",
   "metadata": {},
   "source": [
    "Observation\n",
    "* Dispatched trips go for a higher trip distance compared to Street Hailed ones"
   ]
  },
  {
   "cell_type": "markdown",
   "id": "10ff7d58",
   "metadata": {},
   "source": [
    "### Trip Distance vs Rate Code"
   ]
  },
  {
   "cell_type": "code",
   "execution_count": 340,
   "id": "5593bbeb",
   "metadata": {},
   "outputs": [
    {
     "data": {
      "text/plain": [
       "<AxesSubplot:xlabel='Rate_Code', ylabel='trip_distance'>"
      ]
     },
     "execution_count": 340,
     "metadata": {},
     "output_type": "execute_result"
    },
    {
     "data": {
      "image/png": "[encoded data removed]",
      "text/plain": [
       "<Figure size 720x360 with 1 Axes>"
      ]
     },
     "metadata": {},
     "output_type": "display_data"
    },
    {
     "data": {
      "application/javascript": [
       "\n",
       "            setTimeout(function() {\n",
       "                var nbb_cell_id = 340;\n",
       "                var nbb_unformatted_code = \"plt.figure(figsize=(10, 5))\\nsns.barplot(x=\\\"Rate_Code\\\", y=\\\"trip_distance\\\", data=data)\";\n",
       "                var nbb_formatted_code = \"plt.figure(figsize=(10, 5))\\nsns.barplot(x=\\\"Rate_Code\\\", y=\\\"trip_distance\\\", data=data)\";\n",
       "                var nbb_cells = Jupyter.notebook.get_cells();\n",
       "                for (var i = 0; i < nbb_cells.length; ++i) {\n",
       "                    if (nbb_cells[i].input_prompt_number == nbb_cell_id) {\n",
       "                        if (nbb_cells[i].get_text() == nbb_unformatted_code) {\n",
       "                             nbb_cells[i].set_text(nbb_formatted_code);\n",
       "                        }\n",
       "                        break;\n",
       "                    }\n",
       "                }\n",
       "            }, 500);\n",
       "            "
      ],
      "text/plain": [
       "<IPython.core.display.Javascript object>"
      ]
     },
     "metadata": {},
     "output_type": "display_data"
    }
   ],
   "source": [
    "plt.figure(figsize=(10, 5))\n",
    "sns.barplot(x=\"Rate_Code\", y=\"trip_distance\", data=data)"
   ]
  },
  {
   "cell_type": "markdown",
   "id": "b9b7e614",
   "metadata": {},
   "source": [
    "Observation\n",
    "* Nassau or Westchester Rate Codes tend to have higher trip distances, closely followed by Newark and JFK "
   ]
  },
  {
   "cell_type": "markdown",
   "id": "c7dd098f",
   "metadata": {},
   "source": [
    "### Trip Distance vs PaymentType"
   ]
  },
  {
   "cell_type": "code",
   "execution_count": 341,
   "id": "94021242",
   "metadata": {
    "scrolled": true
   },
   "outputs": [
    {
     "data": {
      "text/plain": [
       "<AxesSubplot:xlabel='Payment_Type_Desc', ylabel='trip_distance'>"
      ]
     },
     "execution_count": 341,
     "metadata": {},
     "output_type": "execute_result"
    },
    {
     "data": {
      "image/png": "[encoded data removed]",
      "text/plain": [
       "<Figure size 720x360 with 1 Axes>"
      ]
     },
     "metadata": {},
     "output_type": "display_data"
    },
    {
     "data": {
      "application/javascript": [
       "\n",
       "            setTimeout(function() {\n",
       "                var nbb_cell_id = 341;\n",
       "                var nbb_unformatted_code = \"plt.figure(figsize=(10, 5))\\nsns.barplot(x=\\\"Payment_Type_Desc\\\", y=\\\"trip_distance\\\", data=data)\";\n",
       "                var nbb_formatted_code = \"plt.figure(figsize=(10, 5))\\nsns.barplot(x=\\\"Payment_Type_Desc\\\", y=\\\"trip_distance\\\", data=data)\";\n",
       "                var nbb_cells = Jupyter.notebook.get_cells();\n",
       "                for (var i = 0; i < nbb_cells.length; ++i) {\n",
       "                    if (nbb_cells[i].input_prompt_number == nbb_cell_id) {\n",
       "                        if (nbb_cells[i].get_text() == nbb_unformatted_code) {\n",
       "                             nbb_cells[i].set_text(nbb_formatted_code);\n",
       "                        }\n",
       "                        break;\n",
       "                    }\n",
       "                }\n",
       "            }, 500);\n",
       "            "
      ],
      "text/plain": [
       "<IPython.core.display.Javascript object>"
      ]
     },
     "metadata": {},
     "output_type": "display_data"
    }
   ],
   "source": [
    "plt.figure(figsize=(10, 5))\n",
    "sns.barplot(x=\"Payment_Type_Desc\", y=\"trip_distance\", data=data)"
   ]
  },
  {
   "cell_type": "markdown",
   "id": "a851fe84",
   "metadata": {},
   "source": [
    "Observation\n",
    "* Trip Distances are highest for Credit Card , closely followed by Cash."
   ]
  },
  {
   "cell_type": "markdown",
   "id": "ff6980c3",
   "metadata": {},
   "source": [
    "### Correlation between variables (Multivariate Analysis)"
   ]
  },
  {
   "cell_type": "code",
   "execution_count": 342,
   "id": "fee666aa",
   "metadata": {},
   "outputs": [
    {
     "data": {
      "image/png": "[encoded data removed]",
      "text/plain": [
       "<Figure size 1080x504 with 2 Axes>"
      ]
     },
     "metadata": {},
     "output_type": "display_data"
    },
    {
     "data": {
      "application/javascript": [
       "\n",
       "            setTimeout(function() {\n",
       "                var nbb_cell_id = 342;\n",
       "                var nbb_unformatted_code = \"data3 = data[\\n    [\\n        \\\"passenger_count\\\",\\n        \\\"trip_distance\\\",\\n        \\\"fare_amount\\\",\\n        \\\"extra\\\",\\n        \\\"mta_tax\\\",\\n        \\\"tip_amount\\\",\\n        \\\"tolls_amount\\\",\\n        \\\"improvement_surcharge\\\",\\n        \\\"total_amount\\\",\\n    ]\\n]\\nplt.figure(figsize=(15, 7))\\nsns.heatmap(data3.corr(), annot=True, vmin=-1, vmax=1, fmt=\\\".2f\\\", cmap=\\\"Spectral\\\")\\nplt.show()\";\n",
       "                var nbb_formatted_code = \"data3 = data[\\n    [\\n        \\\"passenger_count\\\",\\n        \\\"trip_distance\\\",\\n        \\\"fare_amount\\\",\\n        \\\"extra\\\",\\n        \\\"mta_tax\\\",\\n        \\\"tip_amount\\\",\\n        \\\"tolls_amount\\\",\\n        \\\"improvement_surcharge\\\",\\n        \\\"total_amount\\\",\\n    ]\\n]\\nplt.figure(figsize=(15, 7))\\nsns.heatmap(data3.corr(), annot=True, vmin=-1, vmax=1, fmt=\\\".2f\\\", cmap=\\\"Spectral\\\")\\nplt.show()\";\n",
       "                var nbb_cells = Jupyter.notebook.get_cells();\n",
       "                for (var i = 0; i < nbb_cells.length; ++i) {\n",
       "                    if (nbb_cells[i].input_prompt_number == nbb_cell_id) {\n",
       "                        if (nbb_cells[i].get_text() == nbb_unformatted_code) {\n",
       "                             nbb_cells[i].set_text(nbb_formatted_code);\n",
       "                        }\n",
       "                        break;\n",
       "                    }\n",
       "                }\n",
       "            }, 500);\n",
       "            "
      ],
      "text/plain": [
       "<IPython.core.display.Javascript object>"
      ]
     },
     "metadata": {},
     "output_type": "display_data"
    }
   ],
   "source": [
    "data3 = data[\n",
    "    [\n",
    "        \"passenger_count\",\n",
    "        \"trip_distance\",\n",
    "        \"fare_amount\",\n",
    "        \"extra\",\n",
    "        \"mta_tax\",\n",
    "        \"tip_amount\",\n",
    "        \"tolls_amount\",\n",
    "        \"improvement_surcharge\",\n",
    "        \"total_amount\",\n",
    "    ]\n",
    "]\n",
    "plt.figure(figsize=(15, 7))\n",
    "sns.heatmap(data3.corr(), annot=True, vmin=-1, vmax=1, fmt=\".2f\", cmap=\"Spectral\")\n",
    "plt.show()"
   ]
  },
  {
   "cell_type": "markdown",
   "id": "cbfc4490",
   "metadata": {},
   "source": [
    "Observation\n",
    " ~We can see High positive corelation between \n",
    "* fare_amount and total_amount\n",
    "* mta_tax and improvement_surcharge\n",
    "* fare_amount and trip_distance\n"
   ]
  },
  {
   "cell_type": "markdown",
   "id": "5bc8ff2e",
   "metadata": {},
   "source": [
    "## 4. Insights based on Analysis"
   ]
  },
  {
   "cell_type": "markdown",
   "id": "6a7eb33e",
   "metadata": {},
   "source": [
    "NYC Green taxi data for Sep 2016, has 148574 rows and 19 columns.\n",
    "\n",
    "-- Following are the significant insights from the dataset, primarly focussed on trip distance feature.\n",
    "\n",
    "* There are 109 Duplicated rows\n",
    "* ehail_fee column is NULL for all the rows in the dataset.\n",
    "* There are amounts columns which are negative, which needs further investigation.\n",
    "* There are rows for which passenger counts =0  , which also needs investigation.\n",
    "* Trip Distance has 14769 rows mentioned as 0 miles, which could be due to rounding or data errors (also needs investigation)\n",
    "* Histogram  of the trip distance shows the highly skewed distribution with many higher outliers (highest = 227). This may need outlier treatments.\n",
    "* Majority of the trip distance values are less than 1 mile\n",
    "* Trip Distances are more or less similar when comparing the Vendors (Verifone and Creative Mobile)\n",
    "* Trip Distances are mostly high (around 3 miles) when passenger counts are between 1-6\n",
    "* We have some data with passenger count as 0 , need to analyze further to see if it is a data error.\n",
    "* Passenger Counts 7 or more have many outliers, so the distribution is not uniform. (shown by error bars).\n",
    "* Dispatched trips go for a higher trip distance compared to Street Hailed ones\n",
    "* Nassau or Westchester Rate Codes tend to have higher trip distances, closely followed by Newark and JFK.\n",
    "* Trip Distances are highest for Credit Card , closely followed by Cash.\n",
    "* New features can be introduced in the dataset, for the time duration,  calculated from Drop Off and Pickup time, which can be helpful in the analysis.\n",
    "* Some of the highly correlated variables can be dropped, during modelling exercise.\n"
   ]
  }
 ],
 "metadata": {
  "kernelspec": {
   "display_name": "Python 3",
   "language": "python",
   "name": "python3"
  },
  "language_info": {
   "codemirror_mode": {
    "name": "ipython",
    "version": 3
   },
   "file_extension": ".py",
   "mimetype": "text/x-python",
   "name": "python",
   "nbconvert_exporter": "python",
   "pygments_lexer": "ipython3",
   "version": "3.8.8"
  }
 },
 "nbformat": 4,
 "nbformat_minor": 5
}
